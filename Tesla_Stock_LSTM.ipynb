{
  "nbformat": 4,
  "nbformat_minor": 0,
  "metadata": {
    "colab": {
      "name": "Tesla_Stock_LSTM.ipynb",
      "provenance": [],
      "collapsed_sections": []
    },
    "kernelspec": {
      "name": "python3",
      "display_name": "Python 3"
    }
  },
  "cells": [
    {
      "cell_type": "code",
      "metadata": {
        "id": "ja65GXUEV3ba",
        "colab_type": "code",
        "colab": {}
      },
      "source": [
        "### Data Collection\n",
        "import pandas_datareader as pdr\n",
        "key=\"\""
      ],
      "execution_count": 2,
      "outputs": []
    },
    {
      "cell_type": "code",
      "metadata": {
        "id": "1JzGkGizWhvG",
        "colab_type": "code",
        "colab": {}
      },
      "source": [
        "df = pdr.get_data_tiingo('TSLA', api_key=key)"
      ],
      "execution_count": 3,
      "outputs": []
    },
    {
      "cell_type": "code",
      "metadata": {
        "id": "Xed3ZMJPWhyx",
        "colab_type": "code",
        "colab": {}
      },
      "source": [
        "df.to_csv('TSLA.csv')"
      ],
      "execution_count": 4,
      "outputs": []
    },
    {
      "cell_type": "code",
      "metadata": {
        "id": "EpkulnYIW3Oc",
        "colab_type": "code",
        "colab": {
          "base_uri": "https://localhost:8080/",
          "height": 35
        },
        "outputId": "5dbbd919-b971-44ab-9bef-c014b5dca6d6"
      },
      "source": [
        "df.shape"
      ],
      "execution_count": 7,
      "outputs": [
        {
          "output_type": "execute_result",
          "data": {
            "text/plain": [
              "(1259, 12)"
            ]
          },
          "metadata": {
            "tags": []
          },
          "execution_count": 7
        }
      ]
    },
    {
      "cell_type": "code",
      "metadata": {
        "id": "5tSH7-iMXMxs",
        "colab_type": "code",
        "colab": {
          "base_uri": "https://localhost:8080/",
          "height": 237
        },
        "outputId": "61fb3505-4952-42a2-cf3e-cd9a5fe3ccb5"
      },
      "source": [
        "df.head()"
      ],
      "execution_count": 8,
      "outputs": [
        {
          "output_type": "execute_result",
          "data": {
            "text/html": [
              "<div>\n",
              "<style scoped>\n",
              "    .dataframe tbody tr th:only-of-type {\n",
              "        vertical-align: middle;\n",
              "    }\n",
              "\n",
              "    .dataframe tbody tr th {\n",
              "        vertical-align: top;\n",
              "    }\n",
              "\n",
              "    .dataframe thead th {\n",
              "        text-align: right;\n",
              "    }\n",
              "</style>\n",
              "<table border=\"1\" class=\"dataframe\">\n",
              "  <thead>\n",
              "    <tr style=\"text-align: right;\">\n",
              "      <th></th>\n",
              "      <th></th>\n",
              "      <th>close</th>\n",
              "      <th>high</th>\n",
              "      <th>low</th>\n",
              "      <th>open</th>\n",
              "      <th>volume</th>\n",
              "      <th>adjClose</th>\n",
              "      <th>adjHigh</th>\n",
              "      <th>adjLow</th>\n",
              "      <th>adjOpen</th>\n",
              "      <th>adjVolume</th>\n",
              "      <th>divCash</th>\n",
              "      <th>splitFactor</th>\n",
              "    </tr>\n",
              "    <tr>\n",
              "      <th>symbol</th>\n",
              "      <th>date</th>\n",
              "      <th></th>\n",
              "      <th></th>\n",
              "      <th></th>\n",
              "      <th></th>\n",
              "      <th></th>\n",
              "      <th></th>\n",
              "      <th></th>\n",
              "      <th></th>\n",
              "      <th></th>\n",
              "      <th></th>\n",
              "      <th></th>\n",
              "      <th></th>\n",
              "    </tr>\n",
              "  </thead>\n",
              "  <tbody>\n",
              "    <tr>\n",
              "      <th rowspan=\"5\" valign=\"top\">TSLA</th>\n",
              "      <th>2015-06-22 00:00:00+00:00</th>\n",
              "      <td>259.79</td>\n",
              "      <td>264.40</td>\n",
              "      <td>255.69</td>\n",
              "      <td>262.15</td>\n",
              "      <td>4561079</td>\n",
              "      <td>259.79</td>\n",
              "      <td>264.40</td>\n",
              "      <td>255.69</td>\n",
              "      <td>262.15</td>\n",
              "      <td>4561079</td>\n",
              "      <td>0.0</td>\n",
              "      <td>1.0</td>\n",
              "    </tr>\n",
              "    <tr>\n",
              "      <th>2015-06-23 00:00:00+00:00</th>\n",
              "      <td>267.67</td>\n",
              "      <td>268.00</td>\n",
              "      <td>258.57</td>\n",
              "      <td>260.32</td>\n",
              "      <td>3870818</td>\n",
              "      <td>267.67</td>\n",
              "      <td>268.00</td>\n",
              "      <td>258.57</td>\n",
              "      <td>260.32</td>\n",
              "      <td>3870818</td>\n",
              "      <td>0.0</td>\n",
              "      <td>1.0</td>\n",
              "    </tr>\n",
              "    <tr>\n",
              "      <th>2015-06-24 00:00:00+00:00</th>\n",
              "      <td>265.17</td>\n",
              "      <td>267.35</td>\n",
              "      <td>263.72</td>\n",
              "      <td>266.98</td>\n",
              "      <td>2412293</td>\n",
              "      <td>265.17</td>\n",
              "      <td>267.35</td>\n",
              "      <td>263.72</td>\n",
              "      <td>266.98</td>\n",
              "      <td>2412293</td>\n",
              "      <td>0.0</td>\n",
              "      <td>1.0</td>\n",
              "    </tr>\n",
              "    <tr>\n",
              "      <th>2015-06-25 00:00:00+00:00</th>\n",
              "      <td>268.79</td>\n",
              "      <td>271.41</td>\n",
              "      <td>265.25</td>\n",
              "      <td>266.45</td>\n",
              "      <td>2849204</td>\n",
              "      <td>268.79</td>\n",
              "      <td>271.41</td>\n",
              "      <td>265.25</td>\n",
              "      <td>266.45</td>\n",
              "      <td>2849204</td>\n",
              "      <td>0.0</td>\n",
              "      <td>1.0</td>\n",
              "    </tr>\n",
              "    <tr>\n",
              "      <th>2015-06-26 00:00:00+00:00</th>\n",
              "      <td>267.09</td>\n",
              "      <td>269.11</td>\n",
              "      <td>266.00</td>\n",
              "      <td>268.89</td>\n",
              "      <td>3838434</td>\n",
              "      <td>267.09</td>\n",
              "      <td>269.11</td>\n",
              "      <td>266.00</td>\n",
              "      <td>268.89</td>\n",
              "      <td>3838434</td>\n",
              "      <td>0.0</td>\n",
              "      <td>1.0</td>\n",
              "    </tr>\n",
              "  </tbody>\n",
              "</table>\n",
              "</div>"
            ],
            "text/plain": [
              "                                   close    high  ...  divCash  splitFactor\n",
              "symbol date                                       ...                      \n",
              "TSLA   2015-06-22 00:00:00+00:00  259.79  264.40  ...      0.0          1.0\n",
              "       2015-06-23 00:00:00+00:00  267.67  268.00  ...      0.0          1.0\n",
              "       2015-06-24 00:00:00+00:00  265.17  267.35  ...      0.0          1.0\n",
              "       2015-06-25 00:00:00+00:00  268.79  271.41  ...      0.0          1.0\n",
              "       2015-06-26 00:00:00+00:00  267.09  269.11  ...      0.0          1.0\n",
              "\n",
              "[5 rows x 12 columns]"
            ]
          },
          "metadata": {
            "tags": []
          },
          "execution_count": 8
        }
      ]
    },
    {
      "cell_type": "code",
      "metadata": {
        "id": "yEkvcTKVXQC4",
        "colab_type": "code",
        "colab": {
          "base_uri": "https://localhost:8080/",
          "height": 237
        },
        "outputId": "8ba88605-4d2e-4f57-f2f7-b925da979926"
      },
      "source": [
        "df.tail()"
      ],
      "execution_count": 9,
      "outputs": [
        {
          "output_type": "execute_result",
          "data": {
            "text/html": [
              "<div>\n",
              "<style scoped>\n",
              "    .dataframe tbody tr th:only-of-type {\n",
              "        vertical-align: middle;\n",
              "    }\n",
              "\n",
              "    .dataframe tbody tr th {\n",
              "        vertical-align: top;\n",
              "    }\n",
              "\n",
              "    .dataframe thead th {\n",
              "        text-align: right;\n",
              "    }\n",
              "</style>\n",
              "<table border=\"1\" class=\"dataframe\">\n",
              "  <thead>\n",
              "    <tr style=\"text-align: right;\">\n",
              "      <th></th>\n",
              "      <th></th>\n",
              "      <th>close</th>\n",
              "      <th>high</th>\n",
              "      <th>low</th>\n",
              "      <th>open</th>\n",
              "      <th>volume</th>\n",
              "      <th>adjClose</th>\n",
              "      <th>adjHigh</th>\n",
              "      <th>adjLow</th>\n",
              "      <th>adjOpen</th>\n",
              "      <th>adjVolume</th>\n",
              "      <th>divCash</th>\n",
              "      <th>splitFactor</th>\n",
              "    </tr>\n",
              "    <tr>\n",
              "      <th>symbol</th>\n",
              "      <th>date</th>\n",
              "      <th></th>\n",
              "      <th></th>\n",
              "      <th></th>\n",
              "      <th></th>\n",
              "      <th></th>\n",
              "      <th></th>\n",
              "      <th></th>\n",
              "      <th></th>\n",
              "      <th></th>\n",
              "      <th></th>\n",
              "      <th></th>\n",
              "      <th></th>\n",
              "    </tr>\n",
              "  </thead>\n",
              "  <tbody>\n",
              "    <tr>\n",
              "      <th rowspan=\"5\" valign=\"top\">TSLA</th>\n",
              "      <th>2020-06-15 00:00:00+00:00</th>\n",
              "      <td>990.90</td>\n",
              "      <td>998.84</td>\n",
              "      <td>908.5000</td>\n",
              "      <td>917.79</td>\n",
              "      <td>15697178</td>\n",
              "      <td>990.90</td>\n",
              "      <td>998.84</td>\n",
              "      <td>908.5000</td>\n",
              "      <td>917.79</td>\n",
              "      <td>15697178</td>\n",
              "      <td>0.0</td>\n",
              "      <td>1.0</td>\n",
              "    </tr>\n",
              "    <tr>\n",
              "      <th>2020-06-16 00:00:00+00:00</th>\n",
              "      <td>982.13</td>\n",
              "      <td>1012.88</td>\n",
              "      <td>962.3900</td>\n",
              "      <td>1011.85</td>\n",
              "      <td>14051078</td>\n",
              "      <td>982.13</td>\n",
              "      <td>1012.88</td>\n",
              "      <td>962.3900</td>\n",
              "      <td>1011.85</td>\n",
              "      <td>14051078</td>\n",
              "      <td>0.0</td>\n",
              "      <td>1.0</td>\n",
              "    </tr>\n",
              "    <tr>\n",
              "      <th>2020-06-17 00:00:00+00:00</th>\n",
              "      <td>991.79</td>\n",
              "      <td>1005.00</td>\n",
              "      <td>982.5710</td>\n",
              "      <td>987.71</td>\n",
              "      <td>9890800</td>\n",
              "      <td>991.79</td>\n",
              "      <td>1005.00</td>\n",
              "      <td>982.5710</td>\n",
              "      <td>987.71</td>\n",
              "      <td>9890800</td>\n",
              "      <td>0.0</td>\n",
              "      <td>1.0</td>\n",
              "    </tr>\n",
              "    <tr>\n",
              "      <th>2020-06-18 00:00:00+00:00</th>\n",
              "      <td>1003.96</td>\n",
              "      <td>1019.20</td>\n",
              "      <td>994.4708</td>\n",
              "      <td>1003.00</td>\n",
              "      <td>9751936</td>\n",
              "      <td>1003.96</td>\n",
              "      <td>1019.20</td>\n",
              "      <td>994.4708</td>\n",
              "      <td>1003.00</td>\n",
              "      <td>9751936</td>\n",
              "      <td>0.0</td>\n",
              "      <td>1.0</td>\n",
              "    </tr>\n",
              "    <tr>\n",
              "      <th>2020-06-19 00:00:00+00:00</th>\n",
              "      <td>1000.90</td>\n",
              "      <td>1015.97</td>\n",
              "      <td>991.3400</td>\n",
              "      <td>1012.78</td>\n",
              "      <td>8580475</td>\n",
              "      <td>1000.90</td>\n",
              "      <td>1015.97</td>\n",
              "      <td>991.3400</td>\n",
              "      <td>1012.78</td>\n",
              "      <td>8580475</td>\n",
              "      <td>0.0</td>\n",
              "      <td>1.0</td>\n",
              "    </tr>\n",
              "  </tbody>\n",
              "</table>\n",
              "</div>"
            ],
            "text/plain": [
              "                                    close     high  ...  divCash  splitFactor\n",
              "symbol date                                         ...                      \n",
              "TSLA   2020-06-15 00:00:00+00:00   990.90   998.84  ...      0.0          1.0\n",
              "       2020-06-16 00:00:00+00:00   982.13  1012.88  ...      0.0          1.0\n",
              "       2020-06-17 00:00:00+00:00   991.79  1005.00  ...      0.0          1.0\n",
              "       2020-06-18 00:00:00+00:00  1003.96  1019.20  ...      0.0          1.0\n",
              "       2020-06-19 00:00:00+00:00  1000.90  1015.97  ...      0.0          1.0\n",
              "\n",
              "[5 rows x 12 columns]"
            ]
          },
          "metadata": {
            "tags": []
          },
          "execution_count": 9
        }
      ]
    },
    {
      "cell_type": "code",
      "metadata": {
        "id": "eouzWotjXQGY",
        "colab_type": "code",
        "colab": {}
      },
      "source": [
        "df_f=df.reset_index()['close']"
      ],
      "execution_count": 10,
      "outputs": []
    },
    {
      "cell_type": "code",
      "metadata": {
        "id": "wuiiXd8YXQKo",
        "colab_type": "code",
        "colab": {
          "base_uri": "https://localhost:8080/",
          "height": 126
        },
        "outputId": "bbeb3ab1-7fe0-4e0b-832f-be59e42da47b"
      },
      "source": [
        "df_f.head()"
      ],
      "execution_count": 11,
      "outputs": [
        {
          "output_type": "execute_result",
          "data": {
            "text/plain": [
              "0    259.79\n",
              "1    267.67\n",
              "2    265.17\n",
              "3    268.79\n",
              "4    267.09\n",
              "Name: close, dtype: float64"
            ]
          },
          "metadata": {
            "tags": []
          },
          "execution_count": 11
        }
      ]
    },
    {
      "cell_type": "code",
      "metadata": {
        "id": "2dxhy7N1XQPO",
        "colab_type": "code",
        "colab": {
          "base_uri": "https://localhost:8080/",
          "height": 283
        },
        "outputId": "926a6467-835e-44ce-c58d-8ca8914a5bc2"
      },
      "source": [
        "import matplotlib.pyplot as plt\n",
        "plt.plot(df_f)"
      ],
      "execution_count": 12,
      "outputs": [
        {
          "output_type": "execute_result",
          "data": {
            "text/plain": [
              "[<matplotlib.lines.Line2D at 0x7fc4dee21c18>]"
            ]
          },
          "metadata": {
            "tags": []
          },
          "execution_count": 12
        },
        {
          "output_type": "display_data",
          "data": {
            "image/png": "[encoded data removed]",
            "text/plain": [
              "<Figure size 432x288 with 1 Axes>"
            ]
          },
          "metadata": {
            "tags": [],
            "needs_background": "light"
          }
        }
      ]
    },
    {
      "cell_type": "markdown",
      "metadata": {
        "id": "i3tpLnLVYJFR",
        "colab_type": "text"
      },
      "source": [
        "Transform the data:"
      ]
    },
    {
      "cell_type": "code",
      "metadata": {
        "id": "rqvaAqTnXQTB",
        "colab_type": "code",
        "colab": {}
      },
      "source": [
        "import numpy as np\n",
        "from sklearn.preprocessing import MinMaxScaler\n",
        "scaler=MinMaxScaler(feature_range=(0,1))\n",
        "df_f=scaler.fit_transform(np.array(df_f).reshape(-1,1))"
      ],
      "execution_count": 13,
      "outputs": []
    },
    {
      "cell_type": "code",
      "metadata": {
        "id": "WP087tbQXQN3",
        "colab_type": "code",
        "colab": {
          "base_uri": "https://localhost:8080/",
          "height": 144
        },
        "outputId": "4bf274b1-ad07-4b1a-8640-7340ac239e26"
      },
      "source": [
        "df_f"
      ],
      "execution_count": 15,
      "outputs": [
        {
          "output_type": "execute_result",
          "data": {
            "text/plain": [
              "array([[0.13174794],\n",
              "       [0.14068847],\n",
              "       [0.137852  ],\n",
              "       ...,\n",
              "       [0.96226372],\n",
              "       [0.97607161],\n",
              "       [0.97259979]])"
            ]
          },
          "metadata": {
            "tags": []
          },
          "execution_count": 15
        }
      ]
    },
    {
      "cell_type": "markdown",
      "metadata": {
        "id": "DFHZpKiTZUoE",
        "colab_type": "text"
      },
      "source": [
        "Test and train Split:"
      ]
    },
    {
      "cell_type": "code",
      "metadata": {
        "id": "inX2QPGUZTl_",
        "colab_type": "code",
        "colab": {}
      },
      "source": [
        "\n",
        "##splitting dataset into train and test split\n",
        "training_size=int(len(df_f)*0.70)\n",
        "test_size=len(df_f)-training_size\n",
        "train_data,test_data=df_f[0:training_size,:],df_f[training_size:len(df_f),:1]"
      ],
      "execution_count": 17,
      "outputs": []
    },
    {
      "cell_type": "code",
      "metadata": {
        "id": "f8RJijxAZTpy",
        "colab_type": "code",
        "colab": {
          "base_uri": "https://localhost:8080/",
          "height": 35
        },
        "outputId": "8e0c00df-4ab2-4a5f-c5da-1df371977eb8"
      },
      "source": [
        "training_size,test_size"
      ],
      "execution_count": 18,
      "outputs": [
        {
          "output_type": "execute_result",
          "data": {
            "text/plain": [
              "(881, 378)"
            ]
          },
          "metadata": {
            "tags": []
          },
          "execution_count": 18
        }
      ]
    },
    {
      "cell_type": "code",
      "metadata": {
        "id": "1HKUfLAXZTwu",
        "colab_type": "code",
        "colab": {}
      },
      "source": [
        "\n",
        "# convert an array of values into a dataset matrix\n",
        "def create_dataset(dataset, time_step=1):\n",
        "\tdataX, dataY = [], []\n",
        "\tfor i in range(len(dataset)-time_step-1):\n",
        "\t\ta = dataset[i:(i+time_step), 0]   ###i=0, 0,1,2,3-----99   100 \n",
        "\t\tdataX.append(a)\n",
        "\t\tdataY.append(dataset[i + time_step, 0])\n",
        "\treturn np.array(dataX), np.array(dataY)"
      ],
      "execution_count": 19,
      "outputs": []
    },
    {
      "cell_type": "code",
      "metadata": {
        "id": "FoV_8KRUZT1A",
        "colab_type": "code",
        "colab": {}
      },
      "source": [
        "# reshape into X=t,t+1,t+2,t+3 and Y=t+4\n",
        "time_step = 100\n",
        "X_train, y_train = create_dataset(train_data, time_step)\n",
        "X_test, ytest = create_dataset(test_data, time_step)"
      ],
      "execution_count": 33,
      "outputs": []
    },
    {
      "cell_type": "code",
      "metadata": {
        "id": "7Z50nXZcZT4c",
        "colab_type": "code",
        "colab": {
          "base_uri": "https://localhost:8080/",
          "height": 72
        },
        "outputId": "b7b24755-7784-49ec-aa94-829e111c3680"
      },
      "source": [
        "print(X_train.shape), print(y_train.shape)"
      ],
      "execution_count": 34,
      "outputs": [
        {
          "output_type": "stream",
          "text": [
            "(780, 100)\n",
            "(780,)\n"
          ],
          "name": "stdout"
        },
        {
          "output_type": "execute_result",
          "data": {
            "text/plain": [
              "(None, None)"
            ]
          },
          "metadata": {
            "tags": []
          },
          "execution_count": 34
        }
      ]
    },
    {
      "cell_type": "code",
      "metadata": {
        "id": "UBtZ6UYSZT9b",
        "colab_type": "code",
        "colab": {
          "base_uri": "https://localhost:8080/",
          "height": 72
        },
        "outputId": "33ee1648-e61f-48df-e798-88292e918fc0"
      },
      "source": [
        "print(X_test.shape), print(ytest.shape)"
      ],
      "execution_count": 35,
      "outputs": [
        {
          "output_type": "stream",
          "text": [
            "(277, 100)\n",
            "(277,)\n"
          ],
          "name": "stdout"
        },
        {
          "output_type": "execute_result",
          "data": {
            "text/plain": [
              "(None, None)"
            ]
          },
          "metadata": {
            "tags": []
          },
          "execution_count": 35
        }
      ]
    },
    {
      "cell_type": "code",
      "metadata": {
        "id": "XMkHgqK0chPW",
        "colab_type": "code",
        "colab": {}
      },
      "source": [
        "# reshape input to be [samples, time steps, features] which is required for LSTM\n",
        "X_train =X_train.reshape(X_train.shape[0],X_train.shape[1] , 1)\n",
        "X_test = X_test.reshape(X_test.shape[0],X_test.shape[1] , 1)"
      ],
      "execution_count": 36,
      "outputs": []
    },
    {
      "cell_type": "code",
      "metadata": {
        "id": "rRdMyi0EchXq",
        "colab_type": "code",
        "colab": {}
      },
      "source": [
        "### Create the Stacked LSTM model\n",
        "from tensorflow.keras.models import Sequential\n",
        "from tensorflow.keras.layers import Dense\n",
        "from tensorflow.keras.layers import LSTM"
      ],
      "execution_count": 37,
      "outputs": []
    },
    {
      "cell_type": "code",
      "metadata": {
        "id": "L-dWpL30chb-",
        "colab_type": "code",
        "colab": {}
      },
      "source": [
        "model=Sequential()\n",
        "model.add(LSTM(50,return_sequences=True,input_shape=(100,1)))\n",
        "model.add(LSTM(50,return_sequences=True))\n",
        "model.add(LSTM(50))\n",
        "model.add(Dense(1))\n",
        "model.compile(loss='mean_squared_error',optimizer='adam')"
      ],
      "execution_count": 38,
      "outputs": []
    },
    {
      "cell_type": "code",
      "metadata": {
        "id": "1mZ3fHf0ZT8A",
        "colab_type": "code",
        "colab": {
          "base_uri": "https://localhost:8080/",
          "height": 308
        },
        "outputId": "085fa0b8-f406-4e03-d2a0-71cb959bf059"
      },
      "source": [
        "model.summary()"
      ],
      "execution_count": 39,
      "outputs": [
        {
          "output_type": "stream",
          "text": [
            "Model: \"sequential_2\"\n",
            "_________________________________________________________________\n",
            "Layer (type)                 Output Shape              Param #   \n",
            "=================================================================\n",
            "lstm_6 (LSTM)                (None, 100, 50)           10400     \n",
            "_________________________________________________________________\n",
            "lstm_7 (LSTM)                (None, 100, 50)           20200     \n",
            "_________________________________________________________________\n",
            "lstm_8 (LSTM)                (None, 50)                20200     \n",
            "_________________________________________________________________\n",
            "dense_2 (Dense)              (None, 1)                 51        \n",
            "=================================================================\n",
            "Total params: 50,851\n",
            "Trainable params: 50,851\n",
            "Non-trainable params: 0\n",
            "_________________________________________________________________\n"
          ],
          "name": "stdout"
        }
      ]
    },
    {
      "cell_type": "code",
      "metadata": {
        "id": "e8X0-prNZTu6",
        "colab_type": "code",
        "colab": {
          "base_uri": "https://localhost:8080/",
          "height": 1000
        },
        "outputId": "bfeb393c-6f10-4f74-8f6a-6bf6422f2027"
      },
      "source": [
        "model.fit(X_train,y_train,validation_data=(X_test,ytest),epochs=100,batch_size=64,verbose=1)"
      ],
      "execution_count": 40,
      "outputs": [
        {
          "output_type": "stream",
          "text": [
            "Epoch 1/100\n",
            "13/13 [==============================] - 3s 237ms/step - loss: 0.0083 - val_loss: 0.0707\n",
            "Epoch 2/100\n",
            "13/13 [==============================] - 2s 176ms/step - loss: 0.0024 - val_loss: 0.0323\n",
            "Epoch 3/100\n",
            "13/13 [==============================] - 2s 177ms/step - loss: 0.0011 - val_loss: 0.0158\n",
            "Epoch 4/100\n",
            "13/13 [==============================] - 2s 184ms/step - loss: 7.0548e-04 - val_loss: 0.0113\n",
            "Epoch 5/100\n",
            "13/13 [==============================] - 2s 181ms/step - loss: 6.5491e-04 - val_loss: 0.0131\n",
            "Epoch 6/100\n",
            "13/13 [==============================] - 2s 179ms/step - loss: 6.3884e-04 - val_loss: 0.0123\n",
            "Epoch 7/100\n",
            "13/13 [==============================] - 2s 181ms/step - loss: 6.0014e-04 - val_loss: 0.0121\n",
            "Epoch 8/100\n",
            "13/13 [==============================] - 2s 184ms/step - loss: 5.9588e-04 - val_loss: 0.0117\n",
            "Epoch 9/100\n",
            "13/13 [==============================] - 2s 178ms/step - loss: 5.5612e-04 - val_loss: 0.0111\n",
            "Epoch 10/100\n",
            "13/13 [==============================] - 2s 180ms/step - loss: 5.7800e-04 - val_loss: 0.0101\n",
            "Epoch 11/100\n",
            "13/13 [==============================] - 2s 178ms/step - loss: 5.4112e-04 - val_loss: 0.0111\n",
            "Epoch 12/100\n",
            "13/13 [==============================] - 2s 179ms/step - loss: 5.2827e-04 - val_loss: 0.0104\n",
            "Epoch 13/100\n",
            "13/13 [==============================] - 2s 183ms/step - loss: 5.3578e-04 - val_loss: 0.0085\n",
            "Epoch 14/100\n",
            "13/13 [==============================] - 2s 182ms/step - loss: 5.0663e-04 - val_loss: 0.0102\n",
            "Epoch 15/100\n",
            "13/13 [==============================] - 2s 181ms/step - loss: 5.0034e-04 - val_loss: 0.0100\n",
            "Epoch 16/100\n",
            "13/13 [==============================] - 2s 182ms/step - loss: 4.8003e-04 - val_loss: 0.0077\n",
            "Epoch 17/100\n",
            "13/13 [==============================] - 2s 189ms/step - loss: 4.6780e-04 - val_loss: 0.0085\n",
            "Epoch 18/100\n",
            "13/13 [==============================] - 2s 187ms/step - loss: 4.4607e-04 - val_loss: 0.0088\n",
            "Epoch 19/100\n",
            "13/13 [==============================] - 2s 179ms/step - loss: 4.6095e-04 - val_loss: 0.0057\n",
            "Epoch 20/100\n",
            "13/13 [==============================] - 2s 186ms/step - loss: 5.1296e-04 - val_loss: 0.0072\n",
            "Epoch 21/100\n",
            "13/13 [==============================] - 2s 177ms/step - loss: 4.1937e-04 - val_loss: 0.0074\n",
            "Epoch 22/100\n",
            "13/13 [==============================] - 2s 180ms/step - loss: 3.9133e-04 - val_loss: 0.0067\n",
            "Epoch 23/100\n",
            "13/13 [==============================] - 2s 177ms/step - loss: 4.1901e-04 - val_loss: 0.0064\n",
            "Epoch 24/100\n",
            "13/13 [==============================] - 2s 184ms/step - loss: 3.9519e-04 - val_loss: 0.0080\n",
            "Epoch 25/100\n",
            "13/13 [==============================] - 2s 177ms/step - loss: 3.7160e-04 - val_loss: 0.0064\n",
            "Epoch 26/100\n",
            "13/13 [==============================] - 2s 177ms/step - loss: 3.5675e-04 - val_loss: 0.0083\n",
            "Epoch 27/100\n",
            "13/13 [==============================] - 2s 182ms/step - loss: 3.6330e-04 - val_loss: 0.0074\n",
            "Epoch 28/100\n",
            "13/13 [==============================] - 2s 186ms/step - loss: 3.4482e-04 - val_loss: 0.0055\n",
            "Epoch 29/100\n",
            "13/13 [==============================] - 2s 178ms/step - loss: 3.3471e-04 - val_loss: 0.0097\n",
            "Epoch 30/100\n",
            "13/13 [==============================] - 2s 179ms/step - loss: 3.8912e-04 - val_loss: 0.0062\n",
            "Epoch 31/100\n",
            "13/13 [==============================] - 2s 183ms/step - loss: 3.4477e-04 - val_loss: 0.0065\n",
            "Epoch 32/100\n",
            "13/13 [==============================] - 2s 180ms/step - loss: 3.1298e-04 - val_loss: 0.0090\n",
            "Epoch 33/100\n",
            "13/13 [==============================] - 2s 182ms/step - loss: 3.0431e-04 - val_loss: 0.0076\n",
            "Epoch 34/100\n",
            "13/13 [==============================] - 2s 181ms/step - loss: 2.9352e-04 - val_loss: 0.0089\n",
            "Epoch 35/100\n",
            "13/13 [==============================] - 2s 189ms/step - loss: 2.9537e-04 - val_loss: 0.0088\n",
            "Epoch 36/100\n",
            "13/13 [==============================] - 2s 176ms/step - loss: 2.7141e-04 - val_loss: 0.0105\n",
            "Epoch 37/100\n",
            "13/13 [==============================] - 2s 183ms/step - loss: 2.8468e-04 - val_loss: 0.0070\n",
            "Epoch 38/100\n",
            "13/13 [==============================] - 2s 175ms/step - loss: 2.9794e-04 - val_loss: 0.0100\n",
            "Epoch 39/100\n",
            "13/13 [==============================] - 2s 178ms/step - loss: 2.6151e-04 - val_loss: 0.0095\n",
            "Epoch 40/100\n",
            "13/13 [==============================] - 2s 183ms/step - loss: 2.8077e-04 - val_loss: 0.0083\n",
            "Epoch 41/100\n",
            "13/13 [==============================] - 2s 181ms/step - loss: 2.8072e-04 - val_loss: 0.0092\n",
            "Epoch 42/100\n",
            "13/13 [==============================] - 2s 182ms/step - loss: 2.5276e-04 - val_loss: 0.0088\n",
            "Epoch 43/100\n",
            "13/13 [==============================] - 2s 183ms/step - loss: 2.4478e-04 - val_loss: 0.0093\n",
            "Epoch 44/100\n",
            "13/13 [==============================] - 2s 185ms/step - loss: 2.4388e-04 - val_loss: 0.0089\n",
            "Epoch 45/100\n",
            "13/13 [==============================] - 2s 182ms/step - loss: 2.3638e-04 - val_loss: 0.0080\n",
            "Epoch 46/100\n",
            "13/13 [==============================] - 2s 181ms/step - loss: 2.3981e-04 - val_loss: 0.0079\n",
            "Epoch 47/100\n",
            "13/13 [==============================] - 2s 184ms/step - loss: 2.3254e-04 - val_loss: 0.0101\n",
            "Epoch 48/100\n",
            "13/13 [==============================] - 2s 187ms/step - loss: 2.3240e-04 - val_loss: 0.0092\n",
            "Epoch 49/100\n",
            "13/13 [==============================] - 3s 194ms/step - loss: 2.3452e-04 - val_loss: 0.0073\n",
            "Epoch 50/100\n",
            "13/13 [==============================] - 3s 197ms/step - loss: 2.2634e-04 - val_loss: 0.0083\n",
            "Epoch 51/100\n",
            "13/13 [==============================] - 3s 200ms/step - loss: 2.2165e-04 - val_loss: 0.0071\n",
            "Epoch 52/100\n",
            "13/13 [==============================] - 3s 198ms/step - loss: 2.2904e-04 - val_loss: 0.0083\n",
            "Epoch 53/100\n",
            "13/13 [==============================] - 3s 195ms/step - loss: 2.0816e-04 - val_loss: 0.0084\n",
            "Epoch 54/100\n",
            "13/13 [==============================] - 2s 190ms/step - loss: 2.0477e-04 - val_loss: 0.0079\n",
            "Epoch 55/100\n",
            "13/13 [==============================] - 3s 262ms/step - loss: 2.0072e-04 - val_loss: 0.0079\n",
            "Epoch 56/100\n",
            "13/13 [==============================] - 4s 271ms/step - loss: 1.9834e-04 - val_loss: 0.0062\n",
            "Epoch 57/100\n",
            "13/13 [==============================] - 3s 267ms/step - loss: 2.1195e-04 - val_loss: 0.0074\n",
            "Epoch 58/100\n",
            "13/13 [==============================] - 3s 234ms/step - loss: 2.0546e-04 - val_loss: 0.0073\n",
            "Epoch 59/100\n",
            "13/13 [==============================] - 2s 183ms/step - loss: 1.9975e-04 - val_loss: 0.0070\n",
            "Epoch 60/100\n",
            "13/13 [==============================] - 3s 195ms/step - loss: 2.1117e-04 - val_loss: 0.0063\n",
            "Epoch 61/100\n",
            "13/13 [==============================] - 2s 191ms/step - loss: 2.0217e-04 - val_loss: 0.0069\n",
            "Epoch 62/100\n",
            "13/13 [==============================] - 2s 185ms/step - loss: 1.9105e-04 - val_loss: 0.0071\n",
            "Epoch 63/100\n",
            "13/13 [==============================] - 2s 185ms/step - loss: 1.8025e-04 - val_loss: 0.0058\n",
            "Epoch 64/100\n",
            "13/13 [==============================] - 2s 183ms/step - loss: 1.8405e-04 - val_loss: 0.0089\n",
            "Epoch 65/100\n",
            "13/13 [==============================] - 2s 180ms/step - loss: 2.0773e-04 - val_loss: 0.0047\n",
            "Epoch 66/100\n",
            "13/13 [==============================] - 2s 183ms/step - loss: 2.2020e-04 - val_loss: 0.0077\n",
            "Epoch 67/100\n",
            "13/13 [==============================] - 2s 184ms/step - loss: 1.7674e-04 - val_loss: 0.0055\n",
            "Epoch 68/100\n",
            "13/13 [==============================] - 2s 186ms/step - loss: 1.7152e-04 - val_loss: 0.0062\n",
            "Epoch 69/100\n",
            "13/13 [==============================] - 2s 183ms/step - loss: 1.7037e-04 - val_loss: 0.0068\n",
            "Epoch 70/100\n",
            "13/13 [==============================] - 2s 184ms/step - loss: 1.6547e-04 - val_loss: 0.0062\n",
            "Epoch 71/100\n",
            "13/13 [==============================] - 2s 182ms/step - loss: 1.6448e-04 - val_loss: 0.0064\n",
            "Epoch 72/100\n",
            "13/13 [==============================] - 2s 182ms/step - loss: 1.6511e-04 - val_loss: 0.0053\n",
            "Epoch 73/100\n",
            "13/13 [==============================] - 2s 186ms/step - loss: 1.6060e-04 - val_loss: 0.0072\n",
            "Epoch 74/100\n",
            "13/13 [==============================] - 2s 185ms/step - loss: 1.7719e-04 - val_loss: 0.0056\n",
            "Epoch 75/100\n",
            "13/13 [==============================] - 2s 185ms/step - loss: 1.9406e-04 - val_loss: 0.0040\n",
            "Epoch 76/100\n",
            "13/13 [==============================] - 2s 186ms/step - loss: 1.6755e-04 - val_loss: 0.0066\n",
            "Epoch 77/100\n",
            "13/13 [==============================] - 2s 188ms/step - loss: 1.5652e-04 - val_loss: 0.0064\n",
            "Epoch 78/100\n",
            "13/13 [==============================] - 2s 189ms/step - loss: 1.6641e-04 - val_loss: 0.0052\n",
            "Epoch 79/100\n",
            "13/13 [==============================] - 2s 185ms/step - loss: 1.5280e-04 - val_loss: 0.0074\n",
            "Epoch 80/100\n",
            "13/13 [==============================] - 2s 188ms/step - loss: 1.8247e-04 - val_loss: 0.0038\n",
            "Epoch 81/100\n",
            "13/13 [==============================] - 2s 186ms/step - loss: 1.9759e-04 - val_loss: 0.0072\n",
            "Epoch 82/100\n",
            "13/13 [==============================] - 2s 184ms/step - loss: 1.5109e-04 - val_loss: 0.0050\n",
            "Epoch 83/100\n",
            "13/13 [==============================] - 2s 183ms/step - loss: 1.4805e-04 - val_loss: 0.0060\n",
            "Epoch 84/100\n",
            "13/13 [==============================] - 2s 188ms/step - loss: 1.4558e-04 - val_loss: 0.0044\n",
            "Epoch 85/100\n",
            "13/13 [==============================] - 2s 183ms/step - loss: 1.4209e-04 - val_loss: 0.0046\n",
            "Epoch 86/100\n",
            "13/13 [==============================] - 2s 183ms/step - loss: 1.5258e-04 - val_loss: 0.0056\n",
            "Epoch 87/100\n",
            "13/13 [==============================] - 2s 183ms/step - loss: 1.3862e-04 - val_loss: 0.0048\n",
            "Epoch 88/100\n",
            "13/13 [==============================] - 3s 194ms/step - loss: 1.4577e-04 - val_loss: 0.0043\n",
            "Epoch 89/100\n",
            "13/13 [==============================] - 3s 209ms/step - loss: 1.5712e-04 - val_loss: 0.0055\n",
            "Epoch 90/100\n",
            "13/13 [==============================] - 2s 192ms/step - loss: 1.4549e-04 - val_loss: 0.0045\n",
            "Epoch 91/100\n",
            "13/13 [==============================] - 2s 183ms/step - loss: 1.3882e-04 - val_loss: 0.0048\n",
            "Epoch 92/100\n",
            "13/13 [==============================] - 2s 188ms/step - loss: 1.3396e-04 - val_loss: 0.0043\n",
            "Epoch 93/100\n",
            "13/13 [==============================] - 2s 188ms/step - loss: 1.4364e-04 - val_loss: 0.0042\n",
            "Epoch 94/100\n",
            "13/13 [==============================] - 3s 195ms/step - loss: 1.3025e-04 - val_loss: 0.0042\n",
            "Epoch 95/100\n",
            "13/13 [==============================] - 2s 191ms/step - loss: 1.2927e-04 - val_loss: 0.0054\n",
            "Epoch 96/100\n",
            "13/13 [==============================] - 2s 186ms/step - loss: 1.3092e-04 - val_loss: 0.0036\n",
            "Epoch 97/100\n",
            "13/13 [==============================] - 2s 185ms/step - loss: 1.3940e-04 - val_loss: 0.0054\n",
            "Epoch 98/100\n",
            "13/13 [==============================] - 2s 187ms/step - loss: 1.4916e-04 - val_loss: 0.0050\n",
            "Epoch 99/100\n",
            "13/13 [==============================] - 2s 183ms/step - loss: 1.2751e-04 - val_loss: 0.0049\n",
            "Epoch 100/100\n",
            "13/13 [==============================] - 3s 195ms/step - loss: 1.2997e-04 - val_loss: 0.0031\n"
          ],
          "name": "stdout"
        },
        {
          "output_type": "execute_result",
          "data": {
            "text/plain": [
              "<tensorflow.python.keras.callbacks.History at 0x7fc486f76c50>"
            ]
          },
          "metadata": {
            "tags": []
          },
          "execution_count": 40
        }
      ]
    },
    {
      "cell_type": "code",
      "metadata": {
        "id": "wc2_Z2hkc16a",
        "colab_type": "code",
        "colab": {}
      },
      "source": [
        "### Lets Do the prediction and check performance metrics\n",
        "train_predict=model.predict(X_train)\n",
        "test_predict=model.predict(X_test)"
      ],
      "execution_count": 41,
      "outputs": []
    },
    {
      "cell_type": "code",
      "metadata": {
        "id": "m0PX-I0tc19x",
        "colab_type": "code",
        "colab": {}
      },
      "source": [
        "##Transformback to original form\n",
        "train_predict=scaler.inverse_transform(train_predict)\n",
        "test_predict=scaler.inverse_transform(test_predict)"
      ],
      "execution_count": 42,
      "outputs": []
    },
    {
      "cell_type": "code",
      "metadata": {
        "id": "y3fJ7_JIc2Cz",
        "colab_type": "code",
        "colab": {
          "base_uri": "https://localhost:8080/",
          "height": 35
        },
        "outputId": "1980902e-a7b2-4b66-8131-8ef5009a9b5e"
      },
      "source": [
        "import math\n",
        "from sklearn.metrics import mean_squared_error\n",
        "math.sqrt(mean_squared_error(y_train,train_predict))"
      ],
      "execution_count": 43,
      "outputs": [
        {
          "output_type": "execute_result",
          "data": {
            "text/plain": [
              "289.24063429056736"
            ]
          },
          "metadata": {
            "tags": []
          },
          "execution_count": 43
        }
      ]
    },
    {
      "cell_type": "code",
      "metadata": {
        "id": "gCxrzoSoc2GL",
        "colab_type": "code",
        "colab": {
          "base_uri": "https://localhost:8080/",
          "height": 35
        },
        "outputId": "42bf4f13-dd6a-4c26-a045-17978c41f870"
      },
      "source": [
        "### Test Data RMSE\n",
        "math.sqrt(mean_squared_error(ytest,test_predict))"
      ],
      "execution_count": 44,
      "outputs": [
        {
          "output_type": "execute_result",
          "data": {
            "text/plain": [
              "478.0820197233367"
            ]
          },
          "metadata": {
            "tags": []
          },
          "execution_count": 44
        }
      ]
    },
    {
      "cell_type": "code",
      "metadata": {
        "id": "j8hxj6n2dXLi",
        "colab_type": "code",
        "colab": {
          "base_uri": "https://localhost:8080/",
          "height": 265
        },
        "outputId": "a9a045d8-c523-40b3-c7d1-045722640563"
      },
      "source": [
        "### Plotting \n",
        "# shift train predictions for plotting\n",
        "look_back=100\n",
        "trainPredictPlot = np.empty_like(df_f)\n",
        "trainPredictPlot[:, :] = np.nan\n",
        "trainPredictPlot[look_back:len(train_predict)+look_back, :] = train_predict\n",
        "# shift test predictions for plotting\n",
        "testPredictPlot = np.empty_like(df_f)\n",
        "testPredictPlot[:, :] = np.nan\n",
        "testPredictPlot[len(train_predict)+(look_back*2)+1:len(df_f)-1, :] = test_predict\n",
        "# plot baseline and predictions\n",
        "plt.plot(scaler.inverse_transform(df_f))\n",
        "plt.plot(trainPredictPlot)\n",
        "plt.plot(testPredictPlot)\n",
        "plt.show()"
      ],
      "execution_count": 50,
      "outputs": [
        {
          "output_type": "display_data",
          "data": {
            "image/png": "[encoded data removed]",
            "text/plain": [
              "<Figure size 432x288 with 1 Axes>"
            ]
          },
          "metadata": {
            "tags": [],
            "needs_background": "light"
          }
        }
      ]
    },
    {
      "cell_type": "code",
      "metadata": {
        "id": "GglubR-dhUxY",
        "colab_type": "code",
        "colab": {
          "base_uri": "https://localhost:8080/",
          "height": 35
        },
        "outputId": "ffe18b64-159a-4f2a-b513-2d8b3746b8d9"
      },
      "source": [
        "len(test_data)"
      ],
      "execution_count": 54,
      "outputs": [
        {
          "output_type": "execute_result",
          "data": {
            "text/plain": [
              "378"
            ]
          },
          "metadata": {
            "tags": []
          },
          "execution_count": 54
        }
      ]
    },
    {
      "cell_type": "code",
      "metadata": {
        "id": "c239etxEdqwb",
        "colab_type": "code",
        "colab": {
          "base_uri": "https://localhost:8080/",
          "height": 35
        },
        "outputId": "eb6ae39e-cde1-4771-b5b6-6e0ec36eaa75"
      },
      "source": [
        "x_input=test_data[278:].reshape(1,-1)\n",
        "x_input.shape"
      ],
      "execution_count": 55,
      "outputs": [
        {
          "output_type": "execute_result",
          "data": {
            "text/plain": [
              "(1, 100)"
            ]
          },
          "metadata": {
            "tags": []
          },
          "execution_count": 55
        }
      ]
    },
    {
      "cell_type": "code",
      "metadata": {
        "id": "IRzOnhWpdqsU",
        "colab_type": "code",
        "colab": {}
      },
      "source": [
        "temp_input=list(x_input)\n",
        "temp_input=temp_input[0].tolist()"
      ],
      "execution_count": 56,
      "outputs": []
    },
    {
      "cell_type": "code",
      "metadata": {
        "id": "_FSL6pS4dqna",
        "colab_type": "code",
        "colab": {
          "base_uri": "https://localhost:8080/",
          "height": 1000
        },
        "outputId": "2c182a5f-349f-4506-f9fe-a425e95a3ddb"
      },
      "source": [
        "# demonstrate prediction for next 10 days\n",
        "from numpy import array\n",
        "\n",
        "lst_output=[]\n",
        "n_steps=100\n",
        "i=0\n",
        "while(i<30):\n",
        "    \n",
        "    if(len(temp_input)>100):\n",
        "        #print(temp_input)\n",
        "        x_input=np.array(temp_input[1:])\n",
        "        print(\"{} day input {}\".format(i,x_input))\n",
        "        x_input=x_input.reshape(1,-1)\n",
        "        x_input = x_input.reshape((1, n_steps, 1))\n",
        "        #print(x_input)\n",
        "        yhat = model.predict(x_input, verbose=0)\n",
        "        print(\"{} day output {}\".format(i,yhat))\n",
        "        temp_input.extend(yhat[0].tolist())\n",
        "        temp_input=temp_input[1:]\n",
        "        #print(temp_input)\n",
        "        lst_output.extend(yhat.tolist())\n",
        "        i=i+1\n",
        "    else:\n",
        "        x_input = x_input.reshape((1, n_steps,1))\n",
        "        yhat = model.predict(x_input, verbose=0)\n",
        "        print(yhat[0])\n",
        "        temp_input.extend(yhat[0].tolist())\n",
        "        print(len(temp_input))\n",
        "        lst_output.extend(yhat.tolist())\n",
        "        i=i+1"
      ],
      "execution_count": 57,
      "outputs": [
        {
          "output_type": "stream",
          "text": [
            "[0.8306094]\n",
            "101\n",
            "1 day input [0.56404729 0.57512083 0.72197009 0.8434387  0.67057342 0.68675259\n",
            " 0.68574281 0.71207652 0.71559373 0.70754952 0.74920012 0.74469582\n",
            " 0.81092151 0.87788468 0.85745082 0.8592548  0.78299939 0.74455967\n",
            " 0.72060859 0.60737707 0.59488529 0.68069391 0.68283828 0.68736527\n",
            " 0.65904604 0.63515169 0.52682158 0.56917561 0.55658172 0.47298555\n",
            " 0.45718078 0.34196374 0.32509247 0.24682884 0.32218793 0.32206313\n",
            " 0.32973292 0.40995938 0.4488189  0.43623636 0.42057909 0.40670312\n",
            " 0.43151649 0.38336472 0.35262883 0.38160612 0.42271211 0.45585332\n",
            " 0.45969956 0.48711112 0.57555198 0.64242438 0.66504799 0.6824979\n",
            " 0.69234609 0.68380267 0.61613606 0.66763485 0.63759105 0.65973814\n",
            " 0.74324355 0.70962581 0.74524042 0.72410311 0.63270099 0.70062856\n",
            " 0.70859334 0.72489732 0.72201548 0.76669541 0.75747124 0.75533822\n",
            " 0.73440514 0.74843995 0.74372008 0.76012617 0.7537498  0.76231591\n",
            " 0.77597631 0.76381357 0.76607139 0.76761442 0.75125372 0.78437223\n",
            " 0.85596451 0.83719848 0.8387869  0.81770632 0.84185028 0.91475867\n",
            " 0.90426377 1.         0.94076335 0.89814836 0.96125394 0.95130364\n",
            " 0.96226372 0.97607161 0.97259979 0.83060938]\n",
            "1 day output [[0.70495754]]\n",
            "2 day input [0.57512083 0.72197009 0.8434387  0.67057342 0.68675259 0.68574281\n",
            " 0.71207652 0.71559373 0.70754952 0.74920012 0.74469582 0.81092151\n",
            " 0.87788468 0.85745082 0.8592548  0.78299939 0.74455967 0.72060859\n",
            " 0.60737707 0.59488529 0.68069391 0.68283828 0.68736527 0.65904604\n",
            " 0.63515169 0.52682158 0.56917561 0.55658172 0.47298555 0.45718078\n",
            " 0.34196374 0.32509247 0.24682884 0.32218793 0.32206313 0.32973292\n",
            " 0.40995938 0.4488189  0.43623636 0.42057909 0.40670312 0.43151649\n",
            " 0.38336472 0.35262883 0.38160612 0.42271211 0.45585332 0.45969956\n",
            " 0.48711112 0.57555198 0.64242438 0.66504799 0.6824979  0.69234609\n",
            " 0.68380267 0.61613606 0.66763485 0.63759105 0.65973814 0.74324355\n",
            " 0.70962581 0.74524042 0.72410311 0.63270099 0.70062856 0.70859334\n",
            " 0.72489732 0.72201548 0.76669541 0.75747124 0.75533822 0.73440514\n",
            " 0.74843995 0.74372008 0.76012617 0.7537498  0.76231591 0.77597631\n",
            " 0.76381357 0.76607139 0.76761442 0.75125372 0.78437223 0.85596451\n",
            " 0.83719848 0.8387869  0.81770632 0.84185028 0.91475867 0.90426377\n",
            " 1.         0.94076335 0.89814836 0.96125394 0.95130364 0.96226372\n",
            " 0.97607161 0.97259979 0.83060938 0.70495754]\n",
            "2 day output [[0.56797665]]\n",
            "3 day input [0.72197009 0.8434387  0.67057342 0.68675259 0.68574281 0.71207652\n",
            " 0.71559373 0.70754952 0.74920012 0.74469582 0.81092151 0.87788468\n",
            " 0.85745082 0.8592548  0.78299939 0.74455967 0.72060859 0.60737707\n",
            " 0.59488529 0.68069391 0.68283828 0.68736527 0.65904604 0.63515169\n",
            " 0.52682158 0.56917561 0.55658172 0.47298555 0.45718078 0.34196374\n",
            " 0.32509247 0.24682884 0.32218793 0.32206313 0.32973292 0.40995938\n",
            " 0.4488189  0.43623636 0.42057909 0.40670312 0.43151649 0.38336472\n",
            " 0.35262883 0.38160612 0.42271211 0.45585332 0.45969956 0.48711112\n",
            " 0.57555198 0.64242438 0.66504799 0.6824979  0.69234609 0.68380267\n",
            " 0.61613606 0.66763485 0.63759105 0.65973814 0.74324355 0.70962581\n",
            " 0.74524042 0.72410311 0.63270099 0.70062856 0.70859334 0.72489732\n",
            " 0.72201548 0.76669541 0.75747124 0.75533822 0.73440514 0.74843995\n",
            " 0.74372008 0.76012617 0.7537498  0.76231591 0.77597631 0.76381357\n",
            " 0.76607139 0.76761442 0.75125372 0.78437223 0.85596451 0.83719848\n",
            " 0.8387869  0.81770632 0.84185028 0.91475867 0.90426377 1.\n",
            " 0.94076335 0.89814836 0.96125394 0.95130364 0.96226372 0.97607161\n",
            " 0.97259979 0.83060938 0.70495754 0.56797665]\n",
            "3 day output [[0.46995345]]\n",
            "4 day input [0.8434387  0.67057342 0.68675259 0.68574281 0.71207652 0.71559373\n",
            " 0.70754952 0.74920012 0.74469582 0.81092151 0.87788468 0.85745082\n",
            " 0.8592548  0.78299939 0.74455967 0.72060859 0.60737707 0.59488529\n",
            " 0.68069391 0.68283828 0.68736527 0.65904604 0.63515169 0.52682158\n",
            " 0.56917561 0.55658172 0.47298555 0.45718078 0.34196374 0.32509247\n",
            " 0.24682884 0.32218793 0.32206313 0.32973292 0.40995938 0.4488189\n",
            " 0.43623636 0.42057909 0.40670312 0.43151649 0.38336472 0.35262883\n",
            " 0.38160612 0.42271211 0.45585332 0.45969956 0.48711112 0.57555198\n",
            " 0.64242438 0.66504799 0.6824979  0.69234609 0.68380267 0.61613606\n",
            " 0.66763485 0.63759105 0.65973814 0.74324355 0.70962581 0.74524042\n",
            " 0.72410311 0.63270099 0.70062856 0.70859334 0.72489732 0.72201548\n",
            " 0.76669541 0.75747124 0.75533822 0.73440514 0.74843995 0.74372008\n",
            " 0.76012617 0.7537498  0.76231591 0.77597631 0.76381357 0.76607139\n",
            " 0.76761442 0.75125372 0.78437223 0.85596451 0.83719848 0.8387869\n",
            " 0.81770632 0.84185028 0.91475867 0.90426377 1.         0.94076335\n",
            " 0.89814836 0.96125394 0.95130364 0.96226372 0.97607161 0.97259979\n",
            " 0.83060938 0.70495754 0.56797665 0.46995345]\n",
            "4 day output [[0.4222158]]\n",
            "5 day input [0.67057342 0.68675259 0.68574281 0.71207652 0.71559373 0.70754952\n",
            " 0.74920012 0.74469582 0.81092151 0.87788468 0.85745082 0.8592548\n",
            " 0.78299939 0.74455967 0.72060859 0.60737707 0.59488529 0.68069391\n",
            " 0.68283828 0.68736527 0.65904604 0.63515169 0.52682158 0.56917561\n",
            " 0.55658172 0.47298555 0.45718078 0.34196374 0.32509247 0.24682884\n",
            " 0.32218793 0.32206313 0.32973292 0.40995938 0.4488189  0.43623636\n",
            " 0.42057909 0.40670312 0.43151649 0.38336472 0.35262883 0.38160612\n",
            " 0.42271211 0.45585332 0.45969956 0.48711112 0.57555198 0.64242438\n",
            " 0.66504799 0.6824979  0.69234609 0.68380267 0.61613606 0.66763485\n",
            " 0.63759105 0.65973814 0.74324355 0.70962581 0.74524042 0.72410311\n",
            " 0.63270099 0.70062856 0.70859334 0.72489732 0.72201548 0.76669541\n",
            " 0.75747124 0.75533822 0.73440514 0.74843995 0.74372008 0.76012617\n",
            " 0.7537498  0.76231591 0.77597631 0.76381357 0.76607139 0.76761442\n",
            " 0.75125372 0.78437223 0.85596451 0.83719848 0.8387869  0.81770632\n",
            " 0.84185028 0.91475867 0.90426377 1.         0.94076335 0.89814836\n",
            " 0.96125394 0.95130364 0.96226372 0.97607161 0.97259979 0.83060938\n",
            " 0.70495754 0.56797665 0.46995345 0.42221579]\n",
            "5 day output [[0.41631043]]\n",
            "6 day input [0.68675259 0.68574281 0.71207652 0.71559373 0.70754952 0.74920012\n",
            " 0.74469582 0.81092151 0.87788468 0.85745082 0.8592548  0.78299939\n",
            " 0.74455967 0.72060859 0.60737707 0.59488529 0.68069391 0.68283828\n",
            " 0.68736527 0.65904604 0.63515169 0.52682158 0.56917561 0.55658172\n",
            " 0.47298555 0.45718078 0.34196374 0.32509247 0.24682884 0.32218793\n",
            " 0.32206313 0.32973292 0.40995938 0.4488189  0.43623636 0.42057909\n",
            " 0.40670312 0.43151649 0.38336472 0.35262883 0.38160612 0.42271211\n",
            " 0.45585332 0.45969956 0.48711112 0.57555198 0.64242438 0.66504799\n",
            " 0.6824979  0.69234609 0.68380267 0.61613606 0.66763485 0.63759105\n",
            " 0.65973814 0.74324355 0.70962581 0.74524042 0.72410311 0.63270099\n",
            " 0.70062856 0.70859334 0.72489732 0.72201548 0.76669541 0.75747124\n",
            " 0.75533822 0.73440514 0.74843995 0.74372008 0.76012617 0.7537498\n",
            " 0.76231591 0.77597631 0.76381357 0.76607139 0.76761442 0.75125372\n",
            " 0.78437223 0.85596451 0.83719848 0.8387869  0.81770632 0.84185028\n",
            " 0.91475867 0.90426377 1.         0.94076335 0.89814836 0.96125394\n",
            " 0.95130364 0.96226372 0.97607161 0.97259979 0.83060938 0.70495754\n",
            " 0.56797665 0.46995345 0.42221579 0.41631043]\n",
            "6 day output [[0.43731382]]\n",
            "7 day input [0.68574281 0.71207652 0.71559373 0.70754952 0.74920012 0.74469582\n",
            " 0.81092151 0.87788468 0.85745082 0.8592548  0.78299939 0.74455967\n",
            " 0.72060859 0.60737707 0.59488529 0.68069391 0.68283828 0.68736527\n",
            " 0.65904604 0.63515169 0.52682158 0.56917561 0.55658172 0.47298555\n",
            " 0.45718078 0.34196374 0.32509247 0.24682884 0.32218793 0.32206313\n",
            " 0.32973292 0.40995938 0.4488189  0.43623636 0.42057909 0.40670312\n",
            " 0.43151649 0.38336472 0.35262883 0.38160612 0.42271211 0.45585332\n",
            " 0.45969956 0.48711112 0.57555198 0.64242438 0.66504799 0.6824979\n",
            " 0.69234609 0.68380267 0.61613606 0.66763485 0.63759105 0.65973814\n",
            " 0.74324355 0.70962581 0.74524042 0.72410311 0.63270099 0.70062856\n",
            " 0.70859334 0.72489732 0.72201548 0.76669541 0.75747124 0.75533822\n",
            " 0.73440514 0.74843995 0.74372008 0.76012617 0.7537498  0.76231591\n",
            " 0.77597631 0.76381357 0.76607139 0.76761442 0.75125372 0.78437223\n",
            " 0.85596451 0.83719848 0.8387869  0.81770632 0.84185028 0.91475867\n",
            " 0.90426377 1.         0.94076335 0.89814836 0.96125394 0.95130364\n",
            " 0.96226372 0.97607161 0.97259979 0.83060938 0.70495754 0.56797665\n",
            " 0.46995345 0.42221579 0.41631043 0.43731382]\n",
            "7 day output [[0.4721959]]\n",
            "8 day input [0.71207652 0.71559373 0.70754952 0.74920012 0.74469582 0.81092151\n",
            " 0.87788468 0.85745082 0.8592548  0.78299939 0.74455967 0.72060859\n",
            " 0.60737707 0.59488529 0.68069391 0.68283828 0.68736527 0.65904604\n",
            " 0.63515169 0.52682158 0.56917561 0.55658172 0.47298555 0.45718078\n",
            " 0.34196374 0.32509247 0.24682884 0.32218793 0.32206313 0.32973292\n",
            " 0.40995938 0.4488189  0.43623636 0.42057909 0.40670312 0.43151649\n",
            " 0.38336472 0.35262883 0.38160612 0.42271211 0.45585332 0.45969956\n",
            " 0.48711112 0.57555198 0.64242438 0.66504799 0.6824979  0.69234609\n",
            " 0.68380267 0.61613606 0.66763485 0.63759105 0.65973814 0.74324355\n",
            " 0.70962581 0.74524042 0.72410311 0.63270099 0.70062856 0.70859334\n",
            " 0.72489732 0.72201548 0.76669541 0.75747124 0.75533822 0.73440514\n",
            " 0.74843995 0.74372008 0.76012617 0.7537498  0.76231591 0.77597631\n",
            " 0.76381357 0.76607139 0.76761442 0.75125372 0.78437223 0.85596451\n",
            " 0.83719848 0.8387869  0.81770632 0.84185028 0.91475867 0.90426377\n",
            " 1.         0.94076335 0.89814836 0.96125394 0.95130364 0.96226372\n",
            " 0.97607161 0.97259979 0.83060938 0.70495754 0.56797665 0.46995345\n",
            " 0.42221579 0.41631043 0.43731382 0.47219589]\n",
            "8 day output [[0.51108736]]\n",
            "9 day input [0.71559373 0.70754952 0.74920012 0.74469582 0.81092151 0.87788468\n",
            " 0.85745082 0.8592548  0.78299939 0.74455967 0.72060859 0.60737707\n",
            " 0.59488529 0.68069391 0.68283828 0.68736527 0.65904604 0.63515169\n",
            " 0.52682158 0.56917561 0.55658172 0.47298555 0.45718078 0.34196374\n",
            " 0.32509247 0.24682884 0.32218793 0.32206313 0.32973292 0.40995938\n",
            " 0.4488189  0.43623636 0.42057909 0.40670312 0.43151649 0.38336472\n",
            " 0.35262883 0.38160612 0.42271211 0.45585332 0.45969956 0.48711112\n",
            " 0.57555198 0.64242438 0.66504799 0.6824979  0.69234609 0.68380267\n",
            " 0.61613606 0.66763485 0.63759105 0.65973814 0.74324355 0.70962581\n",
            " 0.74524042 0.72410311 0.63270099 0.70062856 0.70859334 0.72489732\n",
            " 0.72201548 0.76669541 0.75747124 0.75533822 0.73440514 0.74843995\n",
            " 0.74372008 0.76012617 0.7537498  0.76231591 0.77597631 0.76381357\n",
            " 0.76607139 0.76761442 0.75125372 0.78437223 0.85596451 0.83719848\n",
            " 0.8387869  0.81770632 0.84185028 0.91475867 0.90426377 1.\n",
            " 0.94076335 0.89814836 0.96125394 0.95130364 0.96226372 0.97607161\n",
            " 0.97259979 0.83060938 0.70495754 0.56797665 0.46995345 0.42221579\n",
            " 0.41631043 0.43731382 0.47219589 0.51108736]\n",
            "9 day output [[0.54603714]]\n",
            "10 day input [0.70754952 0.74920012 0.74469582 0.81092151 0.87788468 0.85745082\n",
            " 0.8592548  0.78299939 0.74455967 0.72060859 0.60737707 0.59488529\n",
            " 0.68069391 0.68283828 0.68736527 0.65904604 0.63515169 0.52682158\n",
            " 0.56917561 0.55658172 0.47298555 0.45718078 0.34196374 0.32509247\n",
            " 0.24682884 0.32218793 0.32206313 0.32973292 0.40995938 0.4488189\n",
            " 0.43623636 0.42057909 0.40670312 0.43151649 0.38336472 0.35262883\n",
            " 0.38160612 0.42271211 0.45585332 0.45969956 0.48711112 0.57555198\n",
            " 0.64242438 0.66504799 0.6824979  0.69234609 0.68380267 0.61613606\n",
            " 0.66763485 0.63759105 0.65973814 0.74324355 0.70962581 0.74524042\n",
            " 0.72410311 0.63270099 0.70062856 0.70859334 0.72489732 0.72201548\n",
            " 0.76669541 0.75747124 0.75533822 0.73440514 0.74843995 0.74372008\n",
            " 0.76012617 0.7537498  0.76231591 0.77597631 0.76381357 0.76607139\n",
            " 0.76761442 0.75125372 0.78437223 0.85596451 0.83719848 0.8387869\n",
            " 0.81770632 0.84185028 0.91475867 0.90426377 1.         0.94076335\n",
            " 0.89814836 0.96125394 0.95130364 0.96226372 0.97607161 0.97259979\n",
            " 0.83060938 0.70495754 0.56797665 0.46995345 0.42221579 0.41631043\n",
            " 0.43731382 0.47219589 0.51108736 0.54603714]\n",
            "10 day output [[0.5703831]]\n",
            "11 day input [0.74920012 0.74469582 0.81092151 0.87788468 0.85745082 0.8592548\n",
            " 0.78299939 0.74455967 0.72060859 0.60737707 0.59488529 0.68069391\n",
            " 0.68283828 0.68736527 0.65904604 0.63515169 0.52682158 0.56917561\n",
            " 0.55658172 0.47298555 0.45718078 0.34196374 0.32509247 0.24682884\n",
            " 0.32218793 0.32206313 0.32973292 0.40995938 0.4488189  0.43623636\n",
            " 0.42057909 0.40670312 0.43151649 0.38336472 0.35262883 0.38160612\n",
            " 0.42271211 0.45585332 0.45969956 0.48711112 0.57555198 0.64242438\n",
            " 0.66504799 0.6824979  0.69234609 0.68380267 0.61613606 0.66763485\n",
            " 0.63759105 0.65973814 0.74324355 0.70962581 0.74524042 0.72410311\n",
            " 0.63270099 0.70062856 0.70859334 0.72489732 0.72201548 0.76669541\n",
            " 0.75747124 0.75533822 0.73440514 0.74843995 0.74372008 0.76012617\n",
            " 0.7537498  0.76231591 0.77597631 0.76381357 0.76607139 0.76761442\n",
            " 0.75125372 0.78437223 0.85596451 0.83719848 0.8387869  0.81770632\n",
            " 0.84185028 0.91475867 0.90426377 1.         0.94076335 0.89814836\n",
            " 0.96125394 0.95130364 0.96226372 0.97607161 0.97259979 0.83060938\n",
            " 0.70495754 0.56797665 0.46995345 0.42221579 0.41631043 0.43731382\n",
            " 0.47219589 0.51108736 0.54603714 0.57038307]\n",
            "11 day output [[0.57929575]]\n",
            "12 day input [0.74469582 0.81092151 0.87788468 0.85745082 0.8592548  0.78299939\n",
            " 0.74455967 0.72060859 0.60737707 0.59488529 0.68069391 0.68283828\n",
            " 0.68736527 0.65904604 0.63515169 0.52682158 0.56917561 0.55658172\n",
            " 0.47298555 0.45718078 0.34196374 0.32509247 0.24682884 0.32218793\n",
            " 0.32206313 0.32973292 0.40995938 0.4488189  0.43623636 0.42057909\n",
            " 0.40670312 0.43151649 0.38336472 0.35262883 0.38160612 0.42271211\n",
            " 0.45585332 0.45969956 0.48711112 0.57555198 0.64242438 0.66504799\n",
            " 0.6824979  0.69234609 0.68380267 0.61613606 0.66763485 0.63759105\n",
            " 0.65973814 0.74324355 0.70962581 0.74524042 0.72410311 0.63270099\n",
            " 0.70062856 0.70859334 0.72489732 0.72201548 0.76669541 0.75747124\n",
            " 0.75533822 0.73440514 0.74843995 0.74372008 0.76012617 0.7537498\n",
            " 0.76231591 0.77597631 0.76381357 0.76607139 0.76761442 0.75125372\n",
            " 0.78437223 0.85596451 0.83719848 0.8387869  0.81770632 0.84185028\n",
            " 0.91475867 0.90426377 1.         0.94076335 0.89814836 0.96125394\n",
            " 0.95130364 0.96226372 0.97607161 0.97259979 0.83060938 0.70495754\n",
            " 0.56797665 0.46995345 0.42221579 0.41631043 0.43731382 0.47219589\n",
            " 0.51108736 0.54603714 0.57038307 0.57929575]\n",
            "12 day output [[0.57100755]]\n",
            "13 day input [0.81092151 0.87788468 0.85745082 0.8592548  0.78299939 0.74455967\n",
            " 0.72060859 0.60737707 0.59488529 0.68069391 0.68283828 0.68736527\n",
            " 0.65904604 0.63515169 0.52682158 0.56917561 0.55658172 0.47298555\n",
            " 0.45718078 0.34196374 0.32509247 0.24682884 0.32218793 0.32206313\n",
            " 0.32973292 0.40995938 0.4488189  0.43623636 0.42057909 0.40670312\n",
            " 0.43151649 0.38336472 0.35262883 0.38160612 0.42271211 0.45585332\n",
            " 0.45969956 0.48711112 0.57555198 0.64242438 0.66504799 0.6824979\n",
            " 0.69234609 0.68380267 0.61613606 0.66763485 0.63759105 0.65973814\n",
            " 0.74324355 0.70962581 0.74524042 0.72410311 0.63270099 0.70062856\n",
            " 0.70859334 0.72489732 0.72201548 0.76669541 0.75747124 0.75533822\n",
            " 0.73440514 0.74843995 0.74372008 0.76012617 0.7537498  0.76231591\n",
            " 0.77597631 0.76381357 0.76607139 0.76761442 0.75125372 0.78437223\n",
            " 0.85596451 0.83719848 0.8387869  0.81770632 0.84185028 0.91475867\n",
            " 0.90426377 1.         0.94076335 0.89814836 0.96125394 0.95130364\n",
            " 0.96226372 0.97607161 0.97259979 0.83060938 0.70495754 0.56797665\n",
            " 0.46995345 0.42221579 0.41631043 0.43731382 0.47219589 0.51108736\n",
            " 0.54603714 0.57038307 0.57929575 0.57100755]\n",
            "13 day output [[0.5477502]]\n",
            "14 day input [0.87788468 0.85745082 0.8592548  0.78299939 0.74455967 0.72060859\n",
            " 0.60737707 0.59488529 0.68069391 0.68283828 0.68736527 0.65904604\n",
            " 0.63515169 0.52682158 0.56917561 0.55658172 0.47298555 0.45718078\n",
            " 0.34196374 0.32509247 0.24682884 0.32218793 0.32206313 0.32973292\n",
            " 0.40995938 0.4488189  0.43623636 0.42057909 0.40670312 0.43151649\n",
            " 0.38336472 0.35262883 0.38160612 0.42271211 0.45585332 0.45969956\n",
            " 0.48711112 0.57555198 0.64242438 0.66504799 0.6824979  0.69234609\n",
            " 0.68380267 0.61613606 0.66763485 0.63759105 0.65973814 0.74324355\n",
            " 0.70962581 0.74524042 0.72410311 0.63270099 0.70062856 0.70859334\n",
            " 0.72489732 0.72201548 0.76669541 0.75747124 0.75533822 0.73440514\n",
            " 0.74843995 0.74372008 0.76012617 0.7537498  0.76231591 0.77597631\n",
            " 0.76381357 0.76607139 0.76761442 0.75125372 0.78437223 0.85596451\n",
            " 0.83719848 0.8387869  0.81770632 0.84185028 0.91475867 0.90426377\n",
            " 1.         0.94076335 0.89814836 0.96125394 0.95130364 0.96226372\n",
            " 0.97607161 0.97259979 0.83060938 0.70495754 0.56797665 0.46995345\n",
            " 0.42221579 0.41631043 0.43731382 0.47219589 0.51108736 0.54603714\n",
            " 0.57038307 0.57929575 0.57100755 0.54775017]\n",
            "14 day output [[0.5154085]]\n",
            "15 day input [0.85745082 0.8592548  0.78299939 0.74455967 0.72060859 0.60737707\n",
            " 0.59488529 0.68069391 0.68283828 0.68736527 0.65904604 0.63515169\n",
            " 0.52682158 0.56917561 0.55658172 0.47298555 0.45718078 0.34196374\n",
            " 0.32509247 0.24682884 0.32218793 0.32206313 0.32973292 0.40995938\n",
            " 0.4488189  0.43623636 0.42057909 0.40670312 0.43151649 0.38336472\n",
            " 0.35262883 0.38160612 0.42271211 0.45585332 0.45969956 0.48711112\n",
            " 0.57555198 0.64242438 0.66504799 0.6824979  0.69234609 0.68380267\n",
            " 0.61613606 0.66763485 0.63759105 0.65973814 0.74324355 0.70962581\n",
            " 0.74524042 0.72410311 0.63270099 0.70062856 0.70859334 0.72489732\n",
            " 0.72201548 0.76669541 0.75747124 0.75533822 0.73440514 0.74843995\n",
            " 0.74372008 0.76012617 0.7537498  0.76231591 0.77597631 0.76381357\n",
            " 0.76607139 0.76761442 0.75125372 0.78437223 0.85596451 0.83719848\n",
            " 0.8387869  0.81770632 0.84185028 0.91475867 0.90426377 1.\n",
            " 0.94076335 0.89814836 0.96125394 0.95130364 0.96226372 0.97607161\n",
            " 0.97259979 0.83060938 0.70495754 0.56797665 0.46995345 0.42221579\n",
            " 0.41631043 0.43731382 0.47219589 0.51108736 0.54603714 0.57038307\n",
            " 0.57929575 0.57100755 0.54775017 0.51540852]\n",
            "15 day output [[0.48161283]]\n",
            "16 day input [0.8592548  0.78299939 0.74455967 0.72060859 0.60737707 0.59488529\n",
            " 0.68069391 0.68283828 0.68736527 0.65904604 0.63515169 0.52682158\n",
            " 0.56917561 0.55658172 0.47298555 0.45718078 0.34196374 0.32509247\n",
            " 0.24682884 0.32218793 0.32206313 0.32973292 0.40995938 0.4488189\n",
            " 0.43623636 0.42057909 0.40670312 0.43151649 0.38336472 0.35262883\n",
            " 0.38160612 0.42271211 0.45585332 0.45969956 0.48711112 0.57555198\n",
            " 0.64242438 0.66504799 0.6824979  0.69234609 0.68380267 0.61613606\n",
            " 0.66763485 0.63759105 0.65973814 0.74324355 0.70962581 0.74524042\n",
            " 0.72410311 0.63270099 0.70062856 0.70859334 0.72489732 0.72201548\n",
            " 0.76669541 0.75747124 0.75533822 0.73440514 0.74843995 0.74372008\n",
            " 0.76012617 0.7537498  0.76231591 0.77597631 0.76381357 0.76607139\n",
            " 0.76761442 0.75125372 0.78437223 0.85596451 0.83719848 0.8387869\n",
            " 0.81770632 0.84185028 0.91475867 0.90426377 1.         0.94076335\n",
            " 0.89814836 0.96125394 0.95130364 0.96226372 0.97607161 0.97259979\n",
            " 0.83060938 0.70495754 0.56797665 0.46995345 0.42221579 0.41631043\n",
            " 0.43731382 0.47219589 0.51108736 0.54603714 0.57038307 0.57929575\n",
            " 0.57100755 0.54775017 0.51540852 0.48161283]\n",
            "16 day output [[0.4531244]]\n",
            "17 day input [0.78299939 0.74455967 0.72060859 0.60737707 0.59488529 0.68069391\n",
            " 0.68283828 0.68736527 0.65904604 0.63515169 0.52682158 0.56917561\n",
            " 0.55658172 0.47298555 0.45718078 0.34196374 0.32509247 0.24682884\n",
            " 0.32218793 0.32206313 0.32973292 0.40995938 0.4488189  0.43623636\n",
            " 0.42057909 0.40670312 0.43151649 0.38336472 0.35262883 0.38160612\n",
            " 0.42271211 0.45585332 0.45969956 0.48711112 0.57555198 0.64242438\n",
            " 0.66504799 0.6824979  0.69234609 0.68380267 0.61613606 0.66763485\n",
            " 0.63759105 0.65973814 0.74324355 0.70962581 0.74524042 0.72410311\n",
            " 0.63270099 0.70062856 0.70859334 0.72489732 0.72201548 0.76669541\n",
            " 0.75747124 0.75533822 0.73440514 0.74843995 0.74372008 0.76012617\n",
            " 0.7537498  0.76231591 0.77597631 0.76381357 0.76607139 0.76761442\n",
            " 0.75125372 0.78437223 0.85596451 0.83719848 0.8387869  0.81770632\n",
            " 0.84185028 0.91475867 0.90426377 1.         0.94076335 0.89814836\n",
            " 0.96125394 0.95130364 0.96226372 0.97607161 0.97259979 0.83060938\n",
            " 0.70495754 0.56797665 0.46995345 0.42221579 0.41631043 0.43731382\n",
            " 0.47219589 0.51108736 0.54603714 0.57038307 0.57929575 0.57100755\n",
            " 0.54775017 0.51540852 0.48161283 0.4531244 ]\n",
            "17 day output [[0.43394506]]\n",
            "18 day input [0.74455967 0.72060859 0.60737707 0.59488529 0.68069391 0.68283828\n",
            " 0.68736527 0.65904604 0.63515169 0.52682158 0.56917561 0.55658172\n",
            " 0.47298555 0.45718078 0.34196374 0.32509247 0.24682884 0.32218793\n",
            " 0.32206313 0.32973292 0.40995938 0.4488189  0.43623636 0.42057909\n",
            " 0.40670312 0.43151649 0.38336472 0.35262883 0.38160612 0.42271211\n",
            " 0.45585332 0.45969956 0.48711112 0.57555198 0.64242438 0.66504799\n",
            " 0.6824979  0.69234609 0.68380267 0.61613606 0.66763485 0.63759105\n",
            " 0.65973814 0.74324355 0.70962581 0.74524042 0.72410311 0.63270099\n",
            " 0.70062856 0.70859334 0.72489732 0.72201548 0.76669541 0.75747124\n",
            " 0.75533822 0.73440514 0.74843995 0.74372008 0.76012617 0.7537498\n",
            " 0.76231591 0.77597631 0.76381357 0.76607139 0.76761442 0.75125372\n",
            " 0.78437223 0.85596451 0.83719848 0.8387869  0.81770632 0.84185028\n",
            " 0.91475867 0.90426377 1.         0.94076335 0.89814836 0.96125394\n",
            " 0.95130364 0.96226372 0.97607161 0.97259979 0.83060938 0.70495754\n",
            " 0.56797665 0.46995345 0.42221579 0.41631043 0.43731382 0.47219589\n",
            " 0.51108736 0.54603714 0.57038307 0.57929575 0.57100755 0.54775017\n",
            " 0.51540852 0.48161283 0.4531244  0.43394506]\n",
            "18 day output [[0.4249659]]\n",
            "19 day input [0.72060859 0.60737707 0.59488529 0.68069391 0.68283828 0.68736527\n",
            " 0.65904604 0.63515169 0.52682158 0.56917561 0.55658172 0.47298555\n",
            " 0.45718078 0.34196374 0.32509247 0.24682884 0.32218793 0.32206313\n",
            " 0.32973292 0.40995938 0.4488189  0.43623636 0.42057909 0.40670312\n",
            " 0.43151649 0.38336472 0.35262883 0.38160612 0.42271211 0.45585332\n",
            " 0.45969956 0.48711112 0.57555198 0.64242438 0.66504799 0.6824979\n",
            " 0.69234609 0.68380267 0.61613606 0.66763485 0.63759105 0.65973814\n",
            " 0.74324355 0.70962581 0.74524042 0.72410311 0.63270099 0.70062856\n",
            " 0.70859334 0.72489732 0.72201548 0.76669541 0.75747124 0.75533822\n",
            " 0.73440514 0.74843995 0.74372008 0.76012617 0.7537498  0.76231591\n",
            " 0.77597631 0.76381357 0.76607139 0.76761442 0.75125372 0.78437223\n",
            " 0.85596451 0.83719848 0.8387869  0.81770632 0.84185028 0.91475867\n",
            " 0.90426377 1.         0.94076335 0.89814836 0.96125394 0.95130364\n",
            " 0.96226372 0.97607161 0.97259979 0.83060938 0.70495754 0.56797665\n",
            " 0.46995345 0.42221579 0.41631043 0.43731382 0.47219589 0.51108736\n",
            " 0.54603714 0.57038307 0.57929575 0.57100755 0.54775017 0.51540852\n",
            " 0.48161283 0.4531244  0.43394506 0.42496589]\n",
            "19 day output [[0.42480272]]\n",
            "20 day input [0.60737707 0.59488529 0.68069391 0.68283828 0.68736527 0.65904604\n",
            " 0.63515169 0.52682158 0.56917561 0.55658172 0.47298555 0.45718078\n",
            " 0.34196374 0.32509247 0.24682884 0.32218793 0.32206313 0.32973292\n",
            " 0.40995938 0.4488189  0.43623636 0.42057909 0.40670312 0.43151649\n",
            " 0.38336472 0.35262883 0.38160612 0.42271211 0.45585332 0.45969956\n",
            " 0.48711112 0.57555198 0.64242438 0.66504799 0.6824979  0.69234609\n",
            " 0.68380267 0.61613606 0.66763485 0.63759105 0.65973814 0.74324355\n",
            " 0.70962581 0.74524042 0.72410311 0.63270099 0.70062856 0.70859334\n",
            " 0.72489732 0.72201548 0.76669541 0.75747124 0.75533822 0.73440514\n",
            " 0.74843995 0.74372008 0.76012617 0.7537498  0.76231591 0.77597631\n",
            " 0.76381357 0.76607139 0.76761442 0.75125372 0.78437223 0.85596451\n",
            " 0.83719848 0.8387869  0.81770632 0.84185028 0.91475867 0.90426377\n",
            " 1.         0.94076335 0.89814836 0.96125394 0.95130364 0.96226372\n",
            " 0.97607161 0.97259979 0.83060938 0.70495754 0.56797665 0.46995345\n",
            " 0.42221579 0.41631043 0.43731382 0.47219589 0.51108736 0.54603714\n",
            " 0.57038307 0.57929575 0.57100755 0.54775017 0.51540852 0.48161283\n",
            " 0.4531244  0.43394506 0.42496589 0.42480272]\n",
            "20 day output [[0.43092]]\n",
            "21 day input [0.59488529 0.68069391 0.68283828 0.68736527 0.65904604 0.63515169\n",
            " 0.52682158 0.56917561 0.55658172 0.47298555 0.45718078 0.34196374\n",
            " 0.32509247 0.24682884 0.32218793 0.32206313 0.32973292 0.40995938\n",
            " 0.4488189  0.43623636 0.42057909 0.40670312 0.43151649 0.38336472\n",
            " 0.35262883 0.38160612 0.42271211 0.45585332 0.45969956 0.48711112\n",
            " 0.57555198 0.64242438 0.66504799 0.6824979  0.69234609 0.68380267\n",
            " 0.61613606 0.66763485 0.63759105 0.65973814 0.74324355 0.70962581\n",
            " 0.74524042 0.72410311 0.63270099 0.70062856 0.70859334 0.72489732\n",
            " 0.72201548 0.76669541 0.75747124 0.75533822 0.73440514 0.74843995\n",
            " 0.74372008 0.76012617 0.7537498  0.76231591 0.77597631 0.76381357\n",
            " 0.76607139 0.76761442 0.75125372 0.78437223 0.85596451 0.83719848\n",
            " 0.8387869  0.81770632 0.84185028 0.91475867 0.90426377 1.\n",
            " 0.94076335 0.89814836 0.96125394 0.95130364 0.96226372 0.97607161\n",
            " 0.97259979 0.83060938 0.70495754 0.56797665 0.46995345 0.42221579\n",
            " 0.41631043 0.43731382 0.47219589 0.51108736 0.54603714 0.57038307\n",
            " 0.57929575 0.57100755 0.54775017 0.51540852 0.48161283 0.4531244\n",
            " 0.43394506 0.42496589 0.42480272 0.43092   ]\n",
            "21 day output [[0.4404615]]\n",
            "22 day input [0.68069391 0.68283828 0.68736527 0.65904604 0.63515169 0.52682158\n",
            " 0.56917561 0.55658172 0.47298555 0.45718078 0.34196374 0.32509247\n",
            " 0.24682884 0.32218793 0.32206313 0.32973292 0.40995938 0.4488189\n",
            " 0.43623636 0.42057909 0.40670312 0.43151649 0.38336472 0.35262883\n",
            " 0.38160612 0.42271211 0.45585332 0.45969956 0.48711112 0.57555198\n",
            " 0.64242438 0.66504799 0.6824979  0.69234609 0.68380267 0.61613606\n",
            " 0.66763485 0.63759105 0.65973814 0.74324355 0.70962581 0.74524042\n",
            " 0.72410311 0.63270099 0.70062856 0.70859334 0.72489732 0.72201548\n",
            " 0.76669541 0.75747124 0.75533822 0.73440514 0.74843995 0.74372008\n",
            " 0.76012617 0.7537498  0.76231591 0.77597631 0.76381357 0.76607139\n",
            " 0.76761442 0.75125372 0.78437223 0.85596451 0.83719848 0.8387869\n",
            " 0.81770632 0.84185028 0.91475867 0.90426377 1.         0.94076335\n",
            " 0.89814836 0.96125394 0.95130364 0.96226372 0.97607161 0.97259979\n",
            " 0.83060938 0.70495754 0.56797665 0.46995345 0.42221579 0.41631043\n",
            " 0.43731382 0.47219589 0.51108736 0.54603714 0.57038307 0.57929575\n",
            " 0.57100755 0.54775017 0.51540852 0.48161283 0.4531244  0.43394506\n",
            " 0.42496589 0.42480272 0.43092    0.44046149]\n",
            "22 day output [[0.4507188]]\n",
            "23 day input [0.68283828 0.68736527 0.65904604 0.63515169 0.52682158 0.56917561\n",
            " 0.55658172 0.47298555 0.45718078 0.34196374 0.32509247 0.24682884\n",
            " 0.32218793 0.32206313 0.32973292 0.40995938 0.4488189  0.43623636\n",
            " 0.42057909 0.40670312 0.43151649 0.38336472 0.35262883 0.38160612\n",
            " 0.42271211 0.45585332 0.45969956 0.48711112 0.57555198 0.64242438\n",
            " 0.66504799 0.6824979  0.69234609 0.68380267 0.61613606 0.66763485\n",
            " 0.63759105 0.65973814 0.74324355 0.70962581 0.74524042 0.72410311\n",
            " 0.63270099 0.70062856 0.70859334 0.72489732 0.72201548 0.76669541\n",
            " 0.75747124 0.75533822 0.73440514 0.74843995 0.74372008 0.76012617\n",
            " 0.7537498  0.76231591 0.77597631 0.76381357 0.76607139 0.76761442\n",
            " 0.75125372 0.78437223 0.85596451 0.83719848 0.8387869  0.81770632\n",
            " 0.84185028 0.91475867 0.90426377 1.         0.94076335 0.89814836\n",
            " 0.96125394 0.95130364 0.96226372 0.97607161 0.97259979 0.83060938\n",
            " 0.70495754 0.56797665 0.46995345 0.42221579 0.41631043 0.43731382\n",
            " 0.47219589 0.51108736 0.54603714 0.57038307 0.57929575 0.57100755\n",
            " 0.54775017 0.51540852 0.48161283 0.4531244  0.43394506 0.42496589\n",
            " 0.42480272 0.43092    0.44046149 0.45071879]\n",
            "23 day output [[0.45939618]]\n",
            "24 day input [0.68736527 0.65904604 0.63515169 0.52682158 0.56917561 0.55658172\n",
            " 0.47298555 0.45718078 0.34196374 0.32509247 0.24682884 0.32218793\n",
            " 0.32206313 0.32973292 0.40995938 0.4488189  0.43623636 0.42057909\n",
            " 0.40670312 0.43151649 0.38336472 0.35262883 0.38160612 0.42271211\n",
            " 0.45585332 0.45969956 0.48711112 0.57555198 0.64242438 0.66504799\n",
            " 0.6824979  0.69234609 0.68380267 0.61613606 0.66763485 0.63759105\n",
            " 0.65973814 0.74324355 0.70962581 0.74524042 0.72410311 0.63270099\n",
            " 0.70062856 0.70859334 0.72489732 0.72201548 0.76669541 0.75747124\n",
            " 0.75533822 0.73440514 0.74843995 0.74372008 0.76012617 0.7537498\n",
            " 0.76231591 0.77597631 0.76381357 0.76607139 0.76761442 0.75125372\n",
            " 0.78437223 0.85596451 0.83719848 0.8387869  0.81770632 0.84185028\n",
            " 0.91475867 0.90426377 1.         0.94076335 0.89814836 0.96125394\n",
            " 0.95130364 0.96226372 0.97607161 0.97259979 0.83060938 0.70495754\n",
            " 0.56797665 0.46995345 0.42221579 0.41631043 0.43731382 0.47219589\n",
            " 0.51108736 0.54603714 0.57038307 0.57929575 0.57100755 0.54775017\n",
            " 0.51540852 0.48161283 0.4531244  0.43394506 0.42496589 0.42480272\n",
            " 0.43092    0.44046149 0.45071879 0.45939618]\n",
            "24 day output [[0.46480665]]\n",
            "25 day input [0.65904604 0.63515169 0.52682158 0.56917561 0.55658172 0.47298555\n",
            " 0.45718078 0.34196374 0.32509247 0.24682884 0.32218793 0.32206313\n",
            " 0.32973292 0.40995938 0.4488189  0.43623636 0.42057909 0.40670312\n",
            " 0.43151649 0.38336472 0.35262883 0.38160612 0.42271211 0.45585332\n",
            " 0.45969956 0.48711112 0.57555198 0.64242438 0.66504799 0.6824979\n",
            " 0.69234609 0.68380267 0.61613606 0.66763485 0.63759105 0.65973814\n",
            " 0.74324355 0.70962581 0.74524042 0.72410311 0.63270099 0.70062856\n",
            " 0.70859334 0.72489732 0.72201548 0.76669541 0.75747124 0.75533822\n",
            " 0.73440514 0.74843995 0.74372008 0.76012617 0.7537498  0.76231591\n",
            " 0.77597631 0.76381357 0.76607139 0.76761442 0.75125372 0.78437223\n",
            " 0.85596451 0.83719848 0.8387869  0.81770632 0.84185028 0.91475867\n",
            " 0.90426377 1.         0.94076335 0.89814836 0.96125394 0.95130364\n",
            " 0.96226372 0.97607161 0.97259979 0.83060938 0.70495754 0.56797665\n",
            " 0.46995345 0.42221579 0.41631043 0.43731382 0.47219589 0.51108736\n",
            " 0.54603714 0.57038307 0.57929575 0.57100755 0.54775017 0.51540852\n",
            " 0.48161283 0.4531244  0.43394506 0.42496589 0.42480272 0.43092\n",
            " 0.44046149 0.45071879 0.45939618 0.46480665]\n",
            "25 day output [[0.46603426]]\n",
            "26 day input [0.63515169 0.52682158 0.56917561 0.55658172 0.47298555 0.45718078\n",
            " 0.34196374 0.32509247 0.24682884 0.32218793 0.32206313 0.32973292\n",
            " 0.40995938 0.4488189  0.43623636 0.42057909 0.40670312 0.43151649\n",
            " 0.38336472 0.35262883 0.38160612 0.42271211 0.45585332 0.45969956\n",
            " 0.48711112 0.57555198 0.64242438 0.66504799 0.6824979  0.69234609\n",
            " 0.68380267 0.61613606 0.66763485 0.63759105 0.65973814 0.74324355\n",
            " 0.70962581 0.74524042 0.72410311 0.63270099 0.70062856 0.70859334\n",
            " 0.72489732 0.72201548 0.76669541 0.75747124 0.75533822 0.73440514\n",
            " 0.74843995 0.74372008 0.76012617 0.7537498  0.76231591 0.77597631\n",
            " 0.76381357 0.76607139 0.76761442 0.75125372 0.78437223 0.85596451\n",
            " 0.83719848 0.8387869  0.81770632 0.84185028 0.91475867 0.90426377\n",
            " 1.         0.94076335 0.89814836 0.96125394 0.95130364 0.96226372\n",
            " 0.97607161 0.97259979 0.83060938 0.70495754 0.56797665 0.46995345\n",
            " 0.42221579 0.41631043 0.43731382 0.47219589 0.51108736 0.54603714\n",
            " 0.57038307 0.57929575 0.57100755 0.54775017 0.51540852 0.48161283\n",
            " 0.4531244  0.43394506 0.42496589 0.42480272 0.43092    0.44046149\n",
            " 0.45071879 0.45939618 0.46480665 0.46603426]\n",
            "26 day output [[0.46301734]]\n",
            "27 day input [0.52682158 0.56917561 0.55658172 0.47298555 0.45718078 0.34196374\n",
            " 0.32509247 0.24682884 0.32218793 0.32206313 0.32973292 0.40995938\n",
            " 0.4488189  0.43623636 0.42057909 0.40670312 0.43151649 0.38336472\n",
            " 0.35262883 0.38160612 0.42271211 0.45585332 0.45969956 0.48711112\n",
            " 0.57555198 0.64242438 0.66504799 0.6824979  0.69234609 0.68380267\n",
            " 0.61613606 0.66763485 0.63759105 0.65973814 0.74324355 0.70962581\n",
            " 0.74524042 0.72410311 0.63270099 0.70062856 0.70859334 0.72489732\n",
            " 0.72201548 0.76669541 0.75747124 0.75533822 0.73440514 0.74843995\n",
            " 0.74372008 0.76012617 0.7537498  0.76231591 0.77597631 0.76381357\n",
            " 0.76607139 0.76761442 0.75125372 0.78437223 0.85596451 0.83719848\n",
            " 0.8387869  0.81770632 0.84185028 0.91475867 0.90426377 1.\n",
            " 0.94076335 0.89814836 0.96125394 0.95130364 0.96226372 0.97607161\n",
            " 0.97259979 0.83060938 0.70495754 0.56797665 0.46995345 0.42221579\n",
            " 0.41631043 0.43731382 0.47219589 0.51108736 0.54603714 0.57038307\n",
            " 0.57929575 0.57100755 0.54775017 0.51540852 0.48161283 0.4531244\n",
            " 0.43394506 0.42496589 0.42480272 0.43092    0.44046149 0.45071879\n",
            " 0.45939618 0.46480665 0.46603426 0.46301734]\n",
            "27 day output [[0.45649016]]\n",
            "28 day input [0.56917561 0.55658172 0.47298555 0.45718078 0.34196374 0.32509247\n",
            " 0.24682884 0.32218793 0.32206313 0.32973292 0.40995938 0.4488189\n",
            " 0.43623636 0.42057909 0.40670312 0.43151649 0.38336472 0.35262883\n",
            " 0.38160612 0.42271211 0.45585332 0.45969956 0.48711112 0.57555198\n",
            " 0.64242438 0.66504799 0.6824979  0.69234609 0.68380267 0.61613606\n",
            " 0.66763485 0.63759105 0.65973814 0.74324355 0.70962581 0.74524042\n",
            " 0.72410311 0.63270099 0.70062856 0.70859334 0.72489732 0.72201548\n",
            " 0.76669541 0.75747124 0.75533822 0.73440514 0.74843995 0.74372008\n",
            " 0.76012617 0.7537498  0.76231591 0.77597631 0.76381357 0.76607139\n",
            " 0.76761442 0.75125372 0.78437223 0.85596451 0.83719848 0.8387869\n",
            " 0.81770632 0.84185028 0.91475867 0.90426377 1.         0.94076335\n",
            " 0.89814836 0.96125394 0.95130364 0.96226372 0.97607161 0.97259979\n",
            " 0.83060938 0.70495754 0.56797665 0.46995345 0.42221579 0.41631043\n",
            " 0.43731382 0.47219589 0.51108736 0.54603714 0.57038307 0.57929575\n",
            " 0.57100755 0.54775017 0.51540852 0.48161283 0.4531244  0.43394506\n",
            " 0.42496589 0.42480272 0.43092    0.44046149 0.45071879 0.45939618\n",
            " 0.46480665 0.46603426 0.46301734 0.45649016]\n",
            "28 day output [[0.44775662]]\n",
            "29 day input [0.55658172 0.47298555 0.45718078 0.34196374 0.32509247 0.24682884\n",
            " 0.32218793 0.32206313 0.32973292 0.40995938 0.4488189  0.43623636\n",
            " 0.42057909 0.40670312 0.43151649 0.38336472 0.35262883 0.38160612\n",
            " 0.42271211 0.45585332 0.45969956 0.48711112 0.57555198 0.64242438\n",
            " 0.66504799 0.6824979  0.69234609 0.68380267 0.61613606 0.66763485\n",
            " 0.63759105 0.65973814 0.74324355 0.70962581 0.74524042 0.72410311\n",
            " 0.63270099 0.70062856 0.70859334 0.72489732 0.72201548 0.76669541\n",
            " 0.75747124 0.75533822 0.73440514 0.74843995 0.74372008 0.76012617\n",
            " 0.7537498  0.76231591 0.77597631 0.76381357 0.76607139 0.76761442\n",
            " 0.75125372 0.78437223 0.85596451 0.83719848 0.8387869  0.81770632\n",
            " 0.84185028 0.91475867 0.90426377 1.         0.94076335 0.89814836\n",
            " 0.96125394 0.95130364 0.96226372 0.97607161 0.97259979 0.83060938\n",
            " 0.70495754 0.56797665 0.46995345 0.42221579 0.41631043 0.43731382\n",
            " 0.47219589 0.51108736 0.54603714 0.57038307 0.57929575 0.57100755\n",
            " 0.54775017 0.51540852 0.48161283 0.4531244  0.43394506 0.42496589\n",
            " 0.42480272 0.43092    0.44046149 0.45071879 0.45939618 0.46480665\n",
            " 0.46603426 0.46301734 0.45649016 0.44775662]\n",
            "29 day output [[0.4383447]]\n"
          ],
          "name": "stdout"
        }
      ]
    },
    {
      "cell_type": "code",
      "metadata": {
        "id": "nlH9yz-ydqkD",
        "colab_type": "code",
        "colab": {}
      },
      "source": [
        "day_new=np.arange(1,101)\n",
        "day_pred=np.arange(101,131)"
      ],
      "execution_count": 58,
      "outputs": []
    },
    {
      "cell_type": "code",
      "metadata": {
        "id": "RHD790zDdXVa",
        "colab_type": "code",
        "colab": {
          "base_uri": "https://localhost:8080/",
          "height": 35
        },
        "outputId": "1f810d8a-76b7-469b-8a2f-150496a7c117"
      },
      "source": [
        "df_f.shape"
      ],
      "execution_count": 59,
      "outputs": [
        {
          "output_type": "execute_result",
          "data": {
            "text/plain": [
              "(1259, 1)"
            ]
          },
          "metadata": {
            "tags": []
          },
          "execution_count": 59
        }
      ]
    },
    {
      "cell_type": "code",
      "metadata": {
        "id": "9kyJS45fhilZ",
        "colab_type": "code",
        "colab": {
          "base_uri": "https://localhost:8080/",
          "height": 283
        },
        "outputId": "fbd9c761-8b4b-46ba-f747-2d774621cff6"
      },
      "source": [
        "plt.plot(day_new,scaler.inverse_transform(df_f[1159:]))\n",
        "plt.plot(day_pred,scaler.inverse_transform(lst_output))"
      ],
      "execution_count": 61,
      "outputs": [
        {
          "output_type": "execute_result",
          "data": {
            "text/plain": [
              "[<matplotlib.lines.Line2D at 0x7fc4848fd748>]"
            ]
          },
          "metadata": {
            "tags": []
          },
          "execution_count": 61
        },
        {
          "output_type": "display_data",
          "data": {
            "image/png": "[encoded data removed]",
            "text/plain": [
              "<Figure size 432x288 with 1 Axes>"
            ]
          },
          "metadata": {
            "tags": [],
            "needs_background": "light"
          }
        }
      ]
    },
    {
      "cell_type": "code",
      "metadata": {
        "id": "Ore2BbmkiGAJ",
        "colab_type": "code",
        "colab": {
          "base_uri": "https://localhost:8080/",
          "height": 283
        },
        "outputId": "bfcb11ab-af92-4de9-a386-6a541a36e812"
      },
      "source": [
        "df3=df_f.tolist()\n",
        "df3.extend(lst_output)\n",
        "plt.plot(df3[1200:])"
      ],
      "execution_count": 62,
      "outputs": [
        {
          "output_type": "execute_result",
          "data": {
            "text/plain": [
              "[<matplotlib.lines.Line2D at 0x7fc4849bd9b0>]"
            ]
          },
          "metadata": {
            "tags": []
          },
          "execution_count": 62
        },
        {
          "output_type": "display_data",
          "data": {
            "image/png": "[encoded data removed]",
            "text/plain": [
              "<Figure size 432x288 with 1 Axes>"
            ]
          },
          "metadata": {
            "tags": [],
            "needs_background": "light"
          }
        }
      ]
    },
    {
      "cell_type": "code",
      "metadata": {
        "id": "59WN1Z0ViFzL",
        "colab_type": "code",
        "colab": {
          "base_uri": "https://localhost:8080/",
          "height": 283
        },
        "outputId": "4d93b225-7552-446a-a6e0-c17e0055ed9b"
      },
      "source": [
        "df3=scaler.inverse_transform(df3).tolist()\n",
        "plt.plot(df3)"
      ],
      "execution_count": 63,
      "outputs": [
        {
          "output_type": "execute_result",
          "data": {
            "text/plain": [
              "[<matplotlib.lines.Line2D at 0x7fc484884e80>]"
            ]
          },
          "metadata": {
            "tags": []
          },
          "execution_count": 63
        },
        {
          "output_type": "display_data",
          "data": {
            "image/png": "[encoded data removed]",
            "text/plain": [
              "<Figure size 432x288 with 1 Axes>"
            ]
          },
          "metadata": {
            "tags": [],
            "needs_background": "light"
          }
        }
      ]
    },
    {
      "cell_type": "markdown",
      "metadata": {
        "id": "a0vPcv4lidDF",
        "colab_type": "text"
      },
      "source": [
        "Reference :\n",
        "https://machinelearningmastery.com/time-series-prediction-with-deep-learning-in-python-with-keras/"
      ]
    }
  ]
}